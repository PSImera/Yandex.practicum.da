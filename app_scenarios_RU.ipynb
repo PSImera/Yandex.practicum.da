{
 "cells": [
  {
   "cell_type": "markdown",
   "metadata": {},
   "source": [
    "# Анализ поведения пользователей в мобильном приложении\n"
   ]
  },
  {
   "cell_type": "markdown",
   "metadata": {},
   "source": [
    "## Описание проекта"
   ]
  },
  {
   "cell_type": "markdown",
   "metadata": {},
   "source": [
    "Задачи:\n",
    "1. Проанализировать связь целевого события — просмотра контактов — и других\n",
    "действий пользователей.\n",
    "2. Оценить, какие действия чаще совершают те пользователи, которые\n",
    "просматривают контакты.\n",
    "\n",
    "Этапы исследования:\n",
    "Проведите исследовательский анализ данных\n",
    "Проанализируйте влияние событий на совершение целевого события\n",
    "Проверьте статистические гипотезы\n",
    "1. Одни пользователи совершают действия `tips_show` и `tips_click` , другие —\n",
    "только `tips_show` . Проверьте гипотезу: конверсия в просмотры контактов\n",
    "различается у этих двух групп.\n",
    "2. Формулировка собственной статистической гипотезы. Дополние её\n",
    "нулевой и альтернативной гипотезами. Проверка гипотезы с помощью\n",
    "статистического теста.\n",
    "3. Итоговая презентация\n",
    "\n",
    "Описание данных:\n",
    "Датасет содержит данные о событиях, совершенных в мобильном приложении\n",
    "\"Ненужные вещи\". В нем пользователи продают свои ненужные вещи, размещая\n",
    "Мобильные приложения — Анализ поведения пользователей в мобильном приложении 2\n",
    "их на доске объявлений.\n",
    "В датасете содержатся данные пользователей, впервые совершивших действия в\n",
    "приложении после 7 октября 2019 года.\n",
    "\n",
    "Колонки в [/datasets/mobile_sources.csv](https://code.s3.yandex.net/datasets/mobile_sources.csv);\n",
    "- `userId` — идентификатор пользователя,\n",
    "- `source` — источник, с которого пользователь установил приложение.\n",
    "\n",
    "Колонки в [/datasets/mobile_dataset.csv](https://code.s3.yandex.net/datasets/mobile_dataset.csv);\n",
    "- `event.time` — время совершения,\n",
    "- `user.id` — идентификатор пользователя,\n",
    "- `event.name` — действие пользователя.\n",
    "\n",
    "Виды действий:\n",
    "- `advert_open` — открыл карточки объявления,\n",
    "- `photos_show` — просмотрел фотографий в объявлении,\n",
    "- `tips_show` — увидел рекомендованные объявления,\n",
    "- `tips_click` — кликнул по рекомендованному объявлению,\n",
    "- `contacts_show` и `show_contacts` — посмотрел номер телефона,\n",
    "- `contacts_call` — позвонил по номеру из объявления,\n",
    "- `map` — открыл карту объявлений,\n",
    "- `search_1` — `search_7` — разные действия, связанные с поиском по сайту,\n",
    "- `favorites_add` — добавил объявление в избранное."
   ]
  },
  {
   "cell_type": "markdown",
   "metadata": {},
   "source": [
    "## Импорт библиотек"
   ]
  },
  {
   "cell_type": "code",
   "execution_count": 1,
   "metadata": {},
   "outputs": [],
   "source": [
    "import os\n",
    "import pandas as pd\n",
    "import numpy as np\n",
    "from scipy import stats as st\n",
    "import matplotlib.pyplot as plt\n",
    "import seaborn as sns\n",
    "import plotly.graph_objs as go\n",
    "import chart_studio\n",
    "from datetime import timedelta\n",
    "\n",
    "# Сделаем небольшие настройки для комфортного отображения проекта\n",
    "import warnings; warnings.filterwarnings(action = 'ignore')\n",
    "pd.set_option('display.max_columns', None)\n",
    "pd.set_option('display.float_format', lambda x: '%.4f' % x)\n",
    "plt.style.use('dark_background')"
   ]
  },
  {
   "cell_type": "markdown",
   "metadata": {},
   "source": [
    "## Выгрузка и первичный осмотр данных"
   ]
  },
  {
   "cell_type": "code",
   "execution_count": 2,
   "metadata": {},
   "outputs": [
    {
     "name": "stdout",
     "output_type": "stream",
     "text": [
      "Загружаем датасет \"mobile_dataset.csv\"\n",
      "данные загружены с локального хранилища\n",
      "Загружаем датасет \"mobile_sources.csv\"\n",
      "данные загружены с локального хранилища\n"
     ]
    }
   ],
   "source": [
    "print('Загружаем датасет \"mobile_dataset.csv\"')\n",
    "try:\n",
    "    m_ds_path = os.path.join('datasets/mobile_dataset.csv')\n",
    "    m_ds = pd.read_csv(m_ds_path)\n",
    "    print('данные загружены с локального хранилища')\n",
    "except:\n",
    "    m_dataset = pd.read_csv('https://code.s3.yandex.net/datasets/mobile_dataset.csv')\n",
    "    print('данные загружены с сервера')\n",
    "\n",
    "print('Загружаем датасет \"mobile_sources.csv\"')\n",
    "try:\n",
    "    m_src_path = os.path.join('datasets/mobile_sources.csv')\n",
    "    m_src = pd.read_csv(m_src_path)\n",
    "    print('данные загружены с локального хранилища')\n",
    "except:\n",
    "    m_src = pd.read_csv('https://code.s3.yandex.net/datasets/mobile_sources.csv')\n",
    "    print('данные загружены с сервера')"
   ]
  },
  {
   "cell_type": "code",
   "execution_count": 3,
   "metadata": {},
   "outputs": [
    {
     "name": "stdout",
     "output_type": "stream",
     "text": [
      "~~~~~~~~~~~~~~~~~~~  информация по датасету mobile_dataset  ~~~~~~~~~~~~~~~~~~~\n",
      "<class 'pandas.core.frame.DataFrame'>\n",
      "RangeIndex: 74197 entries, 0 to 74196\n",
      "Data columns (total 3 columns):\n",
      " #   Column      Non-Null Count  Dtype \n",
      "---  ------      --------------  ----- \n",
      " 0   event.time  74197 non-null  object\n",
      " 1   event.name  74197 non-null  object\n",
      " 2   user.id     74197 non-null  object\n",
      "dtypes: object(3)\n",
      "memory usage: 1.7+ MB\n"
     ]
    },
    {
     "data": {
      "text/plain": [
       "None"
      ]
     },
     "metadata": {},
     "output_type": "display_data"
    },
    {
     "data": {
      "text/html": [
       "<div>\n",
       "<style scoped>\n",
       "    .dataframe tbody tr th:only-of-type {\n",
       "        vertical-align: middle;\n",
       "    }\n",
       "\n",
       "    .dataframe tbody tr th {\n",
       "        vertical-align: top;\n",
       "    }\n",
       "\n",
       "    .dataframe thead th {\n",
       "        text-align: right;\n",
       "    }\n",
       "</style>\n",
       "<table border=\"1\" class=\"dataframe\">\n",
       "  <thead>\n",
       "    <tr style=\"text-align: right;\">\n",
       "      <th></th>\n",
       "      <th>event.time</th>\n",
       "      <th>event.name</th>\n",
       "      <th>user.id</th>\n",
       "    </tr>\n",
       "  </thead>\n",
       "  <tbody>\n",
       "    <tr>\n",
       "      <th>0</th>\n",
       "      <td>2019-10-07 00:00:00.431357</td>\n",
       "      <td>advert_open</td>\n",
       "      <td>020292ab-89bc-4156-9acf-68bc2783f894</td>\n",
       "    </tr>\n",
       "    <tr>\n",
       "      <th>1</th>\n",
       "      <td>2019-10-07 00:00:01.236320</td>\n",
       "      <td>tips_show</td>\n",
       "      <td>020292ab-89bc-4156-9acf-68bc2783f894</td>\n",
       "    </tr>\n",
       "    <tr>\n",
       "      <th>2</th>\n",
       "      <td>2019-10-07 00:00:02.245341</td>\n",
       "      <td>tips_show</td>\n",
       "      <td>cf7eda61-9349-469f-ac27-e5b6f5ec475c</td>\n",
       "    </tr>\n",
       "    <tr>\n",
       "      <th>3</th>\n",
       "      <td>2019-10-07 00:00:07.039334</td>\n",
       "      <td>tips_show</td>\n",
       "      <td>020292ab-89bc-4156-9acf-68bc2783f894</td>\n",
       "    </tr>\n",
       "    <tr>\n",
       "      <th>4</th>\n",
       "      <td>2019-10-07 00:00:56.319813</td>\n",
       "      <td>advert_open</td>\n",
       "      <td>cf7eda61-9349-469f-ac27-e5b6f5ec475c</td>\n",
       "    </tr>\n",
       "  </tbody>\n",
       "</table>\n",
       "</div>"
      ],
      "text/plain": [
       "                   event.time   event.name  \\\n",
       "0  2019-10-07 00:00:00.431357  advert_open   \n",
       "1  2019-10-07 00:00:01.236320    tips_show   \n",
       "2  2019-10-07 00:00:02.245341    tips_show   \n",
       "3  2019-10-07 00:00:07.039334    tips_show   \n",
       "4  2019-10-07 00:00:56.319813  advert_open   \n",
       "\n",
       "                                user.id  \n",
       "0  020292ab-89bc-4156-9acf-68bc2783f894  \n",
       "1  020292ab-89bc-4156-9acf-68bc2783f894  \n",
       "2  cf7eda61-9349-469f-ac27-e5b6f5ec475c  \n",
       "3  020292ab-89bc-4156-9acf-68bc2783f894  \n",
       "4  cf7eda61-9349-469f-ac27-e5b6f5ec475c  "
      ]
     },
     "metadata": {},
     "output_type": "display_data"
    },
    {
     "data": {
      "text/html": [
       "<div>\n",
       "<style scoped>\n",
       "    .dataframe tbody tr th:only-of-type {\n",
       "        vertical-align: middle;\n",
       "    }\n",
       "\n",
       "    .dataframe tbody tr th {\n",
       "        vertical-align: top;\n",
       "    }\n",
       "\n",
       "    .dataframe thead th {\n",
       "        text-align: right;\n",
       "    }\n",
       "</style>\n",
       "<table border=\"1\" class=\"dataframe\">\n",
       "  <thead>\n",
       "    <tr style=\"text-align: right;\">\n",
       "      <th></th>\n",
       "      <th>event.time</th>\n",
       "      <th>event.name</th>\n",
       "      <th>user.id</th>\n",
       "    </tr>\n",
       "  </thead>\n",
       "  <tbody>\n",
       "    <tr>\n",
       "      <th>count</th>\n",
       "      <td>74197</td>\n",
       "      <td>74197</td>\n",
       "      <td>74197</td>\n",
       "    </tr>\n",
       "    <tr>\n",
       "      <th>unique</th>\n",
       "      <td>74197</td>\n",
       "      <td>16</td>\n",
       "      <td>4293</td>\n",
       "    </tr>\n",
       "    <tr>\n",
       "      <th>top</th>\n",
       "      <td>2019-10-07 00:00:00.431357</td>\n",
       "      <td>tips_show</td>\n",
       "      <td>cb36854f-570a-41f4-baa8-36680b396370</td>\n",
       "    </tr>\n",
       "    <tr>\n",
       "      <th>freq</th>\n",
       "      <td>1</td>\n",
       "      <td>40055</td>\n",
       "      <td>478</td>\n",
       "    </tr>\n",
       "  </tbody>\n",
       "</table>\n",
       "</div>"
      ],
      "text/plain": [
       "                        event.time event.name  \\\n",
       "count                        74197      74197   \n",
       "unique                       74197         16   \n",
       "top     2019-10-07 00:00:00.431357  tips_show   \n",
       "freq                             1      40055   \n",
       "\n",
       "                                     user.id  \n",
       "count                                  74197  \n",
       "unique                                  4293  \n",
       "top     cb36854f-570a-41f4-baa8-36680b396370  \n",
       "freq                                     478  "
      ]
     },
     "metadata": {},
     "output_type": "display_data"
    },
    {
     "name": "stdout",
     "output_type": "stream",
     "text": [
      "~~~~~~~~~~~~~~~~~~~  информация по датасету mobile_source  ~~~~~~~~~~~~~~~~~~~~\n",
      "<class 'pandas.core.frame.DataFrame'>\n",
      "RangeIndex: 4293 entries, 0 to 4292\n",
      "Data columns (total 2 columns):\n",
      " #   Column  Non-Null Count  Dtype \n",
      "---  ------  --------------  ----- \n",
      " 0   userId  4293 non-null   object\n",
      " 1   source  4293 non-null   object\n",
      "dtypes: object(2)\n",
      "memory usage: 67.2+ KB\n"
     ]
    },
    {
     "data": {
      "text/plain": [
       "None"
      ]
     },
     "metadata": {},
     "output_type": "display_data"
    },
    {
     "data": {
      "text/html": [
       "<div>\n",
       "<style scoped>\n",
       "    .dataframe tbody tr th:only-of-type {\n",
       "        vertical-align: middle;\n",
       "    }\n",
       "\n",
       "    .dataframe tbody tr th {\n",
       "        vertical-align: top;\n",
       "    }\n",
       "\n",
       "    .dataframe thead th {\n",
       "        text-align: right;\n",
       "    }\n",
       "</style>\n",
       "<table border=\"1\" class=\"dataframe\">\n",
       "  <thead>\n",
       "    <tr style=\"text-align: right;\">\n",
       "      <th></th>\n",
       "      <th>userId</th>\n",
       "      <th>source</th>\n",
       "    </tr>\n",
       "  </thead>\n",
       "  <tbody>\n",
       "    <tr>\n",
       "      <th>0</th>\n",
       "      <td>020292ab-89bc-4156-9acf-68bc2783f894</td>\n",
       "      <td>other</td>\n",
       "    </tr>\n",
       "    <tr>\n",
       "      <th>1</th>\n",
       "      <td>cf7eda61-9349-469f-ac27-e5b6f5ec475c</td>\n",
       "      <td>yandex</td>\n",
       "    </tr>\n",
       "    <tr>\n",
       "      <th>2</th>\n",
       "      <td>8c356c42-3ba9-4cb6-80b8-3f868d0192c3</td>\n",
       "      <td>yandex</td>\n",
       "    </tr>\n",
       "    <tr>\n",
       "      <th>3</th>\n",
       "      <td>d9b06b47-0f36-419b-bbb0-3533e582a6cb</td>\n",
       "      <td>other</td>\n",
       "    </tr>\n",
       "    <tr>\n",
       "      <th>4</th>\n",
       "      <td>f32e1e2a-3027-4693-b793-b7b3ff274439</td>\n",
       "      <td>google</td>\n",
       "    </tr>\n",
       "  </tbody>\n",
       "</table>\n",
       "</div>"
      ],
      "text/plain": [
       "                                 userId  source\n",
       "0  020292ab-89bc-4156-9acf-68bc2783f894   other\n",
       "1  cf7eda61-9349-469f-ac27-e5b6f5ec475c  yandex\n",
       "2  8c356c42-3ba9-4cb6-80b8-3f868d0192c3  yandex\n",
       "3  d9b06b47-0f36-419b-bbb0-3533e582a6cb   other\n",
       "4  f32e1e2a-3027-4693-b793-b7b3ff274439  google"
      ]
     },
     "metadata": {},
     "output_type": "display_data"
    },
    {
     "data": {
      "text/html": [
       "<div>\n",
       "<style scoped>\n",
       "    .dataframe tbody tr th:only-of-type {\n",
       "        vertical-align: middle;\n",
       "    }\n",
       "\n",
       "    .dataframe tbody tr th {\n",
       "        vertical-align: top;\n",
       "    }\n",
       "\n",
       "    .dataframe thead th {\n",
       "        text-align: right;\n",
       "    }\n",
       "</style>\n",
       "<table border=\"1\" class=\"dataframe\">\n",
       "  <thead>\n",
       "    <tr style=\"text-align: right;\">\n",
       "      <th></th>\n",
       "      <th>userId</th>\n",
       "      <th>source</th>\n",
       "    </tr>\n",
       "  </thead>\n",
       "  <tbody>\n",
       "    <tr>\n",
       "      <th>count</th>\n",
       "      <td>4293</td>\n",
       "      <td>4293</td>\n",
       "    </tr>\n",
       "    <tr>\n",
       "      <th>unique</th>\n",
       "      <td>4293</td>\n",
       "      <td>3</td>\n",
       "    </tr>\n",
       "    <tr>\n",
       "      <th>top</th>\n",
       "      <td>020292ab-89bc-4156-9acf-68bc2783f894</td>\n",
       "      <td>yandex</td>\n",
       "    </tr>\n",
       "    <tr>\n",
       "      <th>freq</th>\n",
       "      <td>1</td>\n",
       "      <td>1934</td>\n",
       "    </tr>\n",
       "  </tbody>\n",
       "</table>\n",
       "</div>"
      ],
      "text/plain": [
       "                                      userId  source\n",
       "count                                   4293    4293\n",
       "unique                                  4293       3\n",
       "top     020292ab-89bc-4156-9acf-68bc2783f894  yandex\n",
       "freq                                       1    1934"
      ]
     },
     "metadata": {},
     "output_type": "display_data"
    }
   ],
   "source": [
    "# смотрим общую информацию по датасетам\n",
    "df_list = [m_ds, m_src]\n",
    "df_name = ['mobile_dataset', 'mobile_source']\n",
    "\n",
    "for i,n in zip(df_list, df_name):\n",
    "    text = f'  информация по датасету {n}  '\n",
    "    print(f'{text:~^79}')\n",
    "    display(i.info())\n",
    "    display(i.head(5))\n",
    "    display(i.describe())"
   ]
  },
  {
   "cell_type": "markdown",
   "metadata": {},
   "source": [
    "Датасет `mobile_dataset` соответствует описанию и содержит 3 столбца. Названия столбцов следует изменить, столбец `event.time` привести к формату datetime.\n",
    "\n",
    "Датасет `mobile_source` соответствует описанию и содержит 2 столбца. Количество записей соответствует количеству уникальных значений `user.id` в датасете `mobile_dataset`.\n",
    "\n",
    "Пропусков в датасетах нет.\n",
    "\n",
    "Итого мы имеем:\n",
    "* 4293 уникальных пользователя\n",
    "* 74197 события"
   ]
  },
  {
   "cell_type": "markdown",
   "metadata": {},
   "source": [
    "Посмотрим на уникальные значения столбцов с событиями и источниками пользователей"
   ]
  },
  {
   "cell_type": "code",
   "execution_count": 4,
   "metadata": {},
   "outputs": [
    {
     "data": {
      "text/plain": [
       "array(['advert_open', 'tips_show', 'map', 'contacts_show', 'search_4',\n",
       "       'search_5', 'tips_click', 'photos_show', 'search_1', 'search_2',\n",
       "       'search_3', 'favorites_add', 'contacts_call', 'search_6',\n",
       "       'search_7', 'show_contacts'], dtype=object)"
      ]
     },
     "metadata": {},
     "output_type": "display_data"
    },
    {
     "data": {
      "text/plain": [
       "array(['other', 'yandex', 'google'], dtype=object)"
      ]
     },
     "metadata": {},
     "output_type": "display_data"
    }
   ],
   "source": [
    "display(m_ds['event.name'].unique())\n",
    "display(m_src['source'].unique())"
   ]
  },
  {
   "cell_type": "markdown",
   "metadata": {},
   "source": [
    "`contacts_show` и `show_contacts` необходимо объединить т.к. это одно и то же событие"
   ]
  },
  {
   "cell_type": "markdown",
   "metadata": {},
   "source": [
    "Проверим датасеты на наличие явных дубликатов"
   ]
  },
  {
   "cell_type": "code",
   "execution_count": 5,
   "metadata": {},
   "outputs": [
    {
     "name": "stdout",
     "output_type": "stream",
     "text": [
      "дубликатов в датасете mobile_dataset: 0\n",
      "дубликатов в датасете mobile_source: 0\n"
     ]
    }
   ],
   "source": [
    "for i, n in zip(df_list, df_name):\n",
    "    print('дубликатов в датасете ' + n + ':', i.duplicated().sum())"
   ]
  },
  {
   "cell_type": "markdown",
   "metadata": {},
   "source": [
    "## Предобработка данных"
   ]
  },
  {
   "cell_type": "markdown",
   "metadata": {},
   "source": [
    "### Переименуем столбцы"
   ]
  },
  {
   "cell_type": "code",
   "execution_count": 6,
   "metadata": {},
   "outputs": [],
   "source": [
    "\n",
    "m_ds = m_ds.rename(columns={'event.time': 'event_time', 'event.name': 'event_name', 'user.id': 'user_id'})\n",
    "m_src = m_src.rename(columns={'userId': 'user_id', 'source': 'mobile_source'})"
   ]
  },
  {
   "cell_type": "markdown",
   "metadata": {},
   "source": [
    "### Заменим тип данных на в столбце `event_time` на `datetime`"
   ]
  },
  {
   "cell_type": "code",
   "execution_count": 7,
   "metadata": {},
   "outputs": [],
   "source": [
    "\n",
    "m_ds['event_time'] = pd.to_datetime(m_ds['event_time'])"
   ]
  },
  {
   "cell_type": "markdown",
   "metadata": {},
   "source": [
    "### Объединим датасеты для удобства"
   ]
  },
  {
   "cell_type": "code",
   "execution_count": 8,
   "metadata": {},
   "outputs": [],
   "source": [
    "\n",
    "mob = m_ds.merge(m_src, on='user_id', how='left')"
   ]
  },
  {
   "cell_type": "code",
   "execution_count": 9,
   "metadata": {},
   "outputs": [
    {
     "name": "stdout",
     "output_type": "stream",
     "text": [
      "<class 'pandas.core.frame.DataFrame'>\n",
      "RangeIndex: 74197 entries, 0 to 74196\n",
      "Data columns (total 4 columns):\n",
      " #   Column         Non-Null Count  Dtype         \n",
      "---  ------         --------------  -----         \n",
      " 0   event_time     74197 non-null  datetime64[ns]\n",
      " 1   event_name     74197 non-null  object        \n",
      " 2   user_id        74197 non-null  object        \n",
      " 3   mobile_source  74197 non-null  object        \n",
      "dtypes: datetime64[ns](1), object(3)\n",
      "memory usage: 2.3+ MB\n"
     ]
    },
    {
     "data": {
      "text/html": [
       "<div>\n",
       "<style scoped>\n",
       "    .dataframe tbody tr th:only-of-type {\n",
       "        vertical-align: middle;\n",
       "    }\n",
       "\n",
       "    .dataframe tbody tr th {\n",
       "        vertical-align: top;\n",
       "    }\n",
       "\n",
       "    .dataframe thead th {\n",
       "        text-align: right;\n",
       "    }\n",
       "</style>\n",
       "<table border=\"1\" class=\"dataframe\">\n",
       "  <thead>\n",
       "    <tr style=\"text-align: right;\">\n",
       "      <th></th>\n",
       "      <th>event_time</th>\n",
       "      <th>event_name</th>\n",
       "      <th>user_id</th>\n",
       "      <th>mobile_source</th>\n",
       "    </tr>\n",
       "  </thead>\n",
       "  <tbody>\n",
       "    <tr>\n",
       "      <th>0</th>\n",
       "      <td>2019-10-07 00:00:00.431357</td>\n",
       "      <td>advert_open</td>\n",
       "      <td>020292ab-89bc-4156-9acf-68bc2783f894</td>\n",
       "      <td>other</td>\n",
       "    </tr>\n",
       "    <tr>\n",
       "      <th>1</th>\n",
       "      <td>2019-10-07 00:00:01.236320</td>\n",
       "      <td>tips_show</td>\n",
       "      <td>020292ab-89bc-4156-9acf-68bc2783f894</td>\n",
       "      <td>other</td>\n",
       "    </tr>\n",
       "    <tr>\n",
       "      <th>2</th>\n",
       "      <td>2019-10-07 00:00:02.245341</td>\n",
       "      <td>tips_show</td>\n",
       "      <td>cf7eda61-9349-469f-ac27-e5b6f5ec475c</td>\n",
       "      <td>yandex</td>\n",
       "    </tr>\n",
       "    <tr>\n",
       "      <th>3</th>\n",
       "      <td>2019-10-07 00:00:07.039334</td>\n",
       "      <td>tips_show</td>\n",
       "      <td>020292ab-89bc-4156-9acf-68bc2783f894</td>\n",
       "      <td>other</td>\n",
       "    </tr>\n",
       "    <tr>\n",
       "      <th>4</th>\n",
       "      <td>2019-10-07 00:00:56.319813</td>\n",
       "      <td>advert_open</td>\n",
       "      <td>cf7eda61-9349-469f-ac27-e5b6f5ec475c</td>\n",
       "      <td>yandex</td>\n",
       "    </tr>\n",
       "  </tbody>\n",
       "</table>\n",
       "</div>"
      ],
      "text/plain": [
       "                  event_time   event_name  \\\n",
       "0 2019-10-07 00:00:00.431357  advert_open   \n",
       "1 2019-10-07 00:00:01.236320    tips_show   \n",
       "2 2019-10-07 00:00:02.245341    tips_show   \n",
       "3 2019-10-07 00:00:07.039334    tips_show   \n",
       "4 2019-10-07 00:00:56.319813  advert_open   \n",
       "\n",
       "                                user_id mobile_source  \n",
       "0  020292ab-89bc-4156-9acf-68bc2783f894         other  \n",
       "1  020292ab-89bc-4156-9acf-68bc2783f894         other  \n",
       "2  cf7eda61-9349-469f-ac27-e5b6f5ec475c        yandex  \n",
       "3  020292ab-89bc-4156-9acf-68bc2783f894         other  \n",
       "4  cf7eda61-9349-469f-ac27-e5b6f5ec475c        yandex  "
      ]
     },
     "metadata": {},
     "output_type": "display_data"
    }
   ],
   "source": [
    "mob.info()\n",
    "display(mob.head(5))"
   ]
  },
  {
   "cell_type": "markdown",
   "metadata": {},
   "source": [
    "### Переименуем события, приводя их к единому формату"
   ]
  },
  {
   "cell_type": "code",
   "execution_count": 10,
   "metadata": {},
   "outputs": [
    {
     "data": {
      "text/plain": [
       "array(['advert_open', 'tips_show', 'map', 'contacts_show', 'search_4',\n",
       "       'search_5', 'tips_click', 'photos_show', 'search_1', 'search_2',\n",
       "       'search_3', 'favorites_add', 'contacts_call', 'search_6',\n",
       "       'search_7'], dtype=object)"
      ]
     },
     "execution_count": 10,
     "metadata": {},
     "output_type": "execute_result"
    }
   ],
   "source": [
    "mob['event_name'][mob['event_name'] == 'show_contacts'] = 'contacts_show'\n",
    "mob['event_name'].unique()"
   ]
  },
  {
   "cell_type": "markdown",
   "metadata": {},
   "source": [
    "Итак, мы переименовали столбцы, поле с датой и временем привели к удобному формату, объединили все данные в один датафрейм, привели названия целевого события к единому формату и проверив как выглядят данные можно приступить к анализу."
   ]
  },
  {
   "cell_type": "markdown",
   "metadata": {},
   "source": [
    "## Анализ данных"
   ]
  },
  {
   "cell_type": "code",
   "execution_count": 11,
   "metadata": {},
   "outputs": [
    {
     "data": {
      "text/plain": [
       "count                            74197\n",
       "mean     2019-10-21 15:32:09.039316992\n",
       "min         2019-10-07 00:00:00.431357\n",
       "25%      2019-10-14 22:04:27.791869952\n",
       "50%      2019-10-22 00:26:56.715014912\n",
       "75%      2019-10-28 12:35:53.023877120\n",
       "max         2019-11-03 23:58:12.532487\n",
       "Name: event_time, dtype: object"
      ]
     },
     "metadata": {},
     "output_type": "display_data"
    },
    {
     "name": "stdout",
     "output_type": "stream",
     "text": [
      "начальная дата: 07 Oct 2019 (Mon)\n",
      "конечная дата: 03 Nov 2019 (Sun)\n"
     ]
    }
   ],
   "source": [
    "display(mob['event_time'].describe())\n",
    "\n",
    "print('начальная дата:', mob['event_time'].min().strftime('%d %b %Y (%a)'))\n",
    "print('конечная дата:', mob['event_time'].max().strftime('%d %b %Y (%a)')) "
   ]
  },
  {
   "cell_type": "markdown",
   "metadata": {},
   "source": [
    "В нашем распоряжении информация с `07 Oct 2019` по `03 Nov 2019`, то есть почти за месяц"
   ]
  },
  {
   "cell_type": "code",
   "execution_count": 12,
   "metadata": {},
   "outputs": [
    {
     "name": "stdout",
     "output_type": "stream",
     "text": [
      "Конверсия к целевому событию - 22.85%\n"
     ]
    }
   ],
   "source": [
    "te_conv = len(mob[mob['event_name'] == 'contacts_show']['user_id'].unique()) / len(mob['user_id'].unique())\n",
    "print(f'Конверсия к целевому событию - {round(te_conv*100, 2)}%')"
   ]
  },
  {
   "cell_type": "markdown",
   "metadata": {},
   "source": [
    "### Посмотрим частоту каждого типа событий"
   ]
  },
  {
   "cell_type": "code",
   "execution_count": 13,
   "metadata": {},
   "outputs": [
    {
     "data": {
      "image/png": "[encoded data removed]",
      "text/plain": [
       "<Figure size 1000x600 with 1 Axes>"
      ]
     },
     "metadata": {},
     "output_type": "display_data"
    }
   ],
   "source": [
    "plt.figure(figsize=(10, 6))\n",
    "mob['event_name'].value_counts().plot(kind='bar')\n",
    "plt.title('Среднее количество записей по типам событий')\n",
    "plt.xlabel('Тип события')\n",
    "plt.ylabel('Среднее количество записей')\n",
    "plt.xticks(rotation=45)\n",
    "plt.grid(axis='y', linestyle='--', alpha=0.7)\n",
    "plt.tight_layout()\n",
    "plt.show()"
   ]
  },
  {
   "cell_type": "markdown",
   "metadata": {},
   "source": [
    "Событие `tips_show` происходит слишком часто, что подразумевает его автоматический характер, и рекомендации выводятся пользователям постоянно в процессе использования приложения. Поскольку мы интересуемся действиями пользователей, а отображение рекомендаций не зависит от них, данное событие не пригодно для анализа.\n",
    "\n",
    "Отсутствует начальное событие, которое можно было бы использовать в качестве отправной точки для воронки и точно отражало бы количество посещений приложения. Например, \"Открытие главной страницы\".\n",
    "\n",
    "Событие `search_1` встречается значительно чаще других, что вероятно свидетельствует о взаимодействии с поисковой строкой, в то время как остальные 6 поисковых событий скорее относятся к более специализированным действиям, таким как использование фильтров и другие. Всего таких специализированных событий немного, поэтому для упрощения их можно объединить в одно событие."
   ]
  },
  {
   "cell_type": "code",
   "execution_count": 14,
   "metadata": {},
   "outputs": [],
   "source": [
    "mob_with_tips_show = mob.copy()\n",
    "mob = mob[mob['event_name'] != 'tips_show']\n",
    "mob.loc[mob['event_name'] == 'search_1', 'event_name'] = 'search_simple'\n",
    "mob.loc[mob['event_name'].isin(['search_2', 'search_3', 'search_4', 'search_5', 'search_6', 'search_7']), 'event_name'] = 'search_special'"
   ]
  },
  {
   "cell_type": "markdown",
   "metadata": {},
   "source": [
    "### Посмотрим, сколько в среднем событий приходится на одного пользователя"
   ]
  },
  {
   "cell_type": "code",
   "execution_count": 15,
   "metadata": {},
   "outputs": [
    {
     "data": {
      "image/png": "[encoded data removed]",
      "text/plain": [
       "<Figure size 1600x200 with 1 Axes>"
      ]
     },
     "metadata": {},
     "output_type": "display_data"
    }
   ],
   "source": [
    "events_by_user = mob.groupby('user_id').agg(event_count = ('event_time', 'count')).reset_index()\n",
    "\n",
    "plt.figure(figsize=(16, 2))\n",
    "plt.title('Распределение количества событий на пользователя', loc='left')\n",
    "plt.boxplot(events_by_user['event_count'], vert=False)\n",
    "plt.xlabel('Количество событий')\n",
    "plt.show();"
   ]
  },
  {
   "cell_type": "code",
   "execution_count": 16,
   "metadata": {},
   "outputs": [
    {
     "data": {
      "image/png": "[encoded data removed]",
      "text/plain": [
       "<Figure size 1600x200 with 1 Axes>"
      ]
     },
     "metadata": {},
     "output_type": "display_data"
    },
    {
     "data": {
      "text/plain": [
       "count   3586.0000\n",
       "mean       9.5209\n",
       "std       16.3181\n",
       "min        1.0000\n",
       "25%        3.0000\n",
       "50%        5.0000\n",
       "75%       10.0000\n",
       "max      336.0000\n",
       "Name: event_count, dtype: float64"
      ]
     },
     "metadata": {},
     "output_type": "display_data"
    }
   ],
   "source": [
    "plt.figure(figsize=(16, 2))\n",
    "plt.title('Распределение количества событий на пользователя', loc='left')\n",
    "plt.boxplot(events_by_user['event_count'], vert=False)\n",
    "plt.xlabel('Количество событий')\n",
    "plt.xlim(0, 25) # увеличим масштаб\n",
    "plt.show();\n",
    "\n",
    "display(events_by_user['event_count'].describe())"
   ]
  },
  {
   "cell_type": "markdown",
   "metadata": {},
   "source": [
    "На одного пользователя приходится событий:\n",
    "- В среднем - 16;\n",
    "- Минимум - 1;\n",
    "- максимум - 336;\n",
    "- медиана - 5"
   ]
  },
  {
   "cell_type": "markdown",
   "metadata": {},
   "source": [
    "### Посмотрим на распределение данных по источнику, с которого пользователь установил приложение"
   ]
  },
  {
   "cell_type": "code",
   "execution_count": 17,
   "metadata": {},
   "outputs": [
    {
     "data": {
      "image/png": "[encoded data removed]",
      "text/plain": [
       "<Figure size 1200x800 with 1 Axes>"
      ]
     },
     "metadata": {},
     "output_type": "display_data"
    }
   ],
   "source": [
    "barWidth = 0.3\n",
    "bars = [[] * n for n in range(len(mob['mobile_source'].unique()))]\n",
    "\n",
    "for i in range(len(mob['mobile_source'].unique())):\n",
    "    bars[i].append(mob.groupby('mobile_source', sort=False).agg({'user_id': 'nunique'})['user_id'][i])\n",
    "    bars[i].append(mob.groupby('mobile_source', sort=False).agg({'user_id': 'count'})['user_id'][i])\n",
    "\n",
    "r = [[0] * n for n in range(len(mob['mobile_source'].unique()))]\n",
    "r[0] = np.arange(len(bars[0]))\n",
    "\n",
    "for i in range(1, len(mob['mobile_source'].unique())):\n",
    "    r[i] = [x + barWidth for x in r[i-1]]\n",
    "\n",
    "plt.figure(figsize=(12, 8))\n",
    "plt.bar(r[0], bars[0], width = barWidth, color = 'grey', edgecolor = 'black', capsize=7, alpha=0.8, label=mob['mobile_source'].unique()[0])\n",
    "plt.bar(r[1], bars[1], width = barWidth, color = 'yellow', edgecolor = 'black', capsize=7, alpha=0.8, label=mob['mobile_source'].unique()[1])\n",
    "plt.bar(r[2], bars[2], width = barWidth, color = 'cyan', edgecolor = 'black', capsize=7, alpha=0.8, label=mob['mobile_source'].unique()[2])\n",
    "\n",
    "plt.xticks([r + barWidth for r in range(len(bars[0]))], ['кол-во пользователей', 'кол-во событий'])\n",
    "plt.ylabel('height')\n",
    "plt.legend()\n",
    "for i in range(len(bars)):\n",
    "    for j in range(len(bars[0])):\n",
    "        plt.text(x = r[i][j]-0.1 , y = bars[i][j]+100, s = bars[i][j], size = 11)\n",
    "plt.show()"
   ]
  },
  {
   "cell_type": "markdown",
   "metadata": {},
   "source": [
    "По обоим показателям лидирует Yandex. Google даёт меньше уникальных пользователей чем остальные источники (не считая Yandex), но эти пользователи чуть более активны"
   ]
  },
  {
   "cell_type": "markdown",
   "metadata": {},
   "source": [
    "### Посмотрим на распределение событий во времени"
   ]
  },
  {
   "cell_type": "code",
   "execution_count": 18,
   "metadata": {},
   "outputs": [
    {
     "data": {
      "image/png": "[encoded data removed]",
      "text/plain": [
       "<Figure size 1600x800 with 3 Axes>"
      ]
     },
     "metadata": {},
     "output_type": "display_data"
    }
   ],
   "source": [
    "period = (mob['event_time'].max() - mob['event_time'].min()).days\n",
    "week = ('пн','вт','ср','чт','пт','сб','вс')\n",
    "pos_p = np.arange(period+1)\n",
    "pos_w = np.arange(len(week))\n",
    "pos_h = np.arange(24)\n",
    "\n",
    "\n",
    "fig = plt.figure(figsize=(16, 8))\n",
    "plt.subplot(3,1, 1)\n",
    "plt.bar(pos_p, mob['event_time'].dt.day.value_counts().sort_index())\n",
    "plt.title('Распределение событий по дням')\n",
    "plt.xticks(pos_p, pos_p, rotation=45)\n",
    "\n",
    "plt.subplot(3,1, 2)\n",
    "plt.bar(pos_w, mob['event_time'].dt.weekday.value_counts().sort_index())\n",
    "plt.title('Распределение событий по дням недели')\n",
    "plt.xticks(pos_w, week, rotation=45)\n",
    "\n",
    "plt.subplot(3,1, 3)\n",
    "plt.bar(pos_h, mob['event_time'].dt.hour.value_counts().sort_index())\n",
    "plt.title('Распределение событий по часам')\n",
    "plt.xticks(pos_h, pos_h, rotation=45)\n",
    "\n",
    "plt.subplots_adjust(hspace = 0.4)\n",
    "plt.show();"
   ]
  },
  {
   "cell_type": "markdown",
   "metadata": {},
   "source": [
    "Ночью приложением пользуются значительно реже и пик приходится на 9 вечера. Так же есть провал в 5-6 вечера.\n",
    "\n",
    "Никаких сильных отклонений не видно. Есть суточная сезонность. Ввиду небольшого отрезка данных по времени, делать декомпозицию и выявлять тренды не резонно."
   ]
  },
  {
   "cell_type": "markdown",
   "metadata": {},
   "source": [
    "### Выделение сессий"
   ]
  },
  {
   "cell_type": "markdown",
   "metadata": {},
   "source": [
    "#### Разобьем события по сессиям"
   ]
  },
  {
   "cell_type": "markdown",
   "metadata": {},
   "source": [
    "По стандарту [OWASP (Open Web Application Security Project)](https://cheatsheetseries.owasp.org/cheatsheets/Session_Management_Cheat_Sheet.html#:~:text=Both%20the%20idle,and%208%20hours) рекомендуется использовать интервал между сессиями от 2 до 5 минут для приложений с высоким уровнем безопасности и от 15 до 30 минут для обычных приложений. Наше мобильное приложение \"Ненужные вещи\" не требует высокого уровня защиты, поэтому мы выбрали время неактивности пользователей 20 минут. Однако, чтобы узнать более точное время сессии данного приложения, лучше всего обратиться к разработчикам."
   ]
  },
  {
   "cell_type": "code",
   "execution_count": 19,
   "metadata": {},
   "outputs": [],
   "source": [
    "g = (mob.groupby('user_id')['event_time'].diff() > pd.Timedelta('20Min')).cumsum()\n",
    "mob = mob.sort_values(['user_id', 'event_time'])\n",
    "mob['session_id'] = mob.groupby(['user_id', g], sort=False).ngroup() + 1"
   ]
  },
  {
   "cell_type": "markdown",
   "metadata": {},
   "source": [
    "#### Посмотрим на полученные сессии"
   ]
  },
  {
   "cell_type": "code",
   "execution_count": 20,
   "metadata": {},
   "outputs": [
    {
     "data": {
      "image/png": "[encoded data removed]",
      "text/plain": [
       "<Figure size 1600x200 with 1 Axes>"
      ]
     },
     "metadata": {},
     "output_type": "display_data"
    }
   ],
   "source": [
    "plt.figure(figsize=(16, 2))\n",
    "plt.title('Распределение количества сессий на пользователя', loc='left')\n",
    "plt.boxplot(mob.groupby('user_id')['session_id'].nunique(), vert=False)\n",
    "plt.xlabel('Количество сессий')\n",
    "plt.xlim(0, 15) # увеличим масштаб\n",
    "plt.show();"
   ]
  },
  {
   "cell_type": "code",
   "execution_count": 21,
   "metadata": {},
   "outputs": [
    {
     "data": {
      "image/png": "[encoded data removed]",
      "text/plain": [
       "<Figure size 1600x200 with 1 Axes>"
      ]
     },
     "metadata": {},
     "output_type": "display_data"
    }
   ],
   "source": [
    "plt.figure(figsize=(16, 2))\n",
    "plt.title('Распределение длительности сессий', loc='left')\n",
    "plt.boxplot(mob.groupby(['session_id', 'user_id'])\n",
    "            .agg(time_span=('event_time', lambda x: (x.max() - x.min())/np.timedelta64(60, 's'))), vert=False)\n",
    "plt.xlabel('Длительность, мин')\n",
    "plt.xlim(0, 15) # увеличим масштаб\n",
    "plt.show();"
   ]
  },
  {
   "cell_type": "markdown",
   "metadata": {},
   "source": [
    "Основная масса людей пользуется приложением до 2 минут 1-4 раз в день.\n",
    "\n",
    "Длительность сессии может зависеть от различных факторов. Однако, обычно для мобильных приложений цель состоит в том, чтобы обеспечить комфортное и продуктивное взаимодействие пользователей с приложением. Это означает, что длительность сессии должна быть достаточной для выполнения основных задач пользователей, но при этом не слишком долгой, чтобы не утомлять пользователей.\n",
    "\n",
    "В случае мобильного приложения по обмену вещами, хорошей длительностью сессии может быть примерно 5-15 минут. Этот интервал дает пользователям достаточно времени для просмотра предложений, добавления или просмотра своих объявлений, общения с другими пользователями и выполнения других основных действий, но не настолько долгий, чтобы вызывать усталость или скуку.\n",
    "\n",
    "Я бы посоветовала задуматься над удержанием пользователей."
   ]
  },
  {
   "cell_type": "markdown",
   "metadata": {},
   "source": [
    "### Удержание"
   ]
  },
  {
   "cell_type": "code",
   "execution_count": 22,
   "metadata": {},
   "outputs": [],
   "source": [
    "profiles = (mob.sort_values(by=['user_id', 'event_time']).groupby('user_id')\n",
    "            .agg({'event_time': 'first'}).rename(columns={'event_time': 'first_join'}).reset_index())\n",
    "profiles['dt'] = pd.to_datetime(profiles['first_join'].dt.date)\n",
    "profiles['month'] = profiles['first_join'].dt.strftime('%m')\n",
    "last_date = mob['event_time'].max().date() - timedelta(days=13)\n",
    "profiles = profiles.query('dt <= @last_date')\n",
    "profiles = profiles.merge(mob[['user_id', 'event_time']], on='user_id', how='left')\n",
    "profiles['lifetime'] = (profiles['event_time'] - profiles['first_join']).dt.days\n",
    "profiles_pivot = profiles.pivot_table(index=['dt'], columns='lifetime', values='user_id', aggfunc='nunique')\n",
    "cohort_sizes = (profiles.groupby('dt').agg({'user_id': 'nunique'}).rename(columns={'user_id': 'cohort_size'}))\n",
    "profiles_pivot = cohort_sizes.merge(profiles_pivot, on='dt', how='left').fillna(0)\n",
    "profiles_pivot = profiles_pivot.div(profiles_pivot['cohort_size'], axis=0)\n",
    "profiles_pivot = profiles_pivot[['cohort_size'] + list(range(14))]\n",
    "profiles_pivot['cohort_size'] = cohort_sizes\n",
    "profiles_pivot.index = profiles_pivot.index.strftime('%m/%d')"
   ]
  },
  {
   "cell_type": "code",
   "execution_count": 23,
   "metadata": {},
   "outputs": [
    {
     "data": {
      "image/png": "[encoded data removed]",
      "text/plain": [
       "<Figure size 1650x750 with 2 Axes>"
      ]
     },
     "metadata": {},
     "output_type": "display_data"
    }
   ],
   "source": [
    "plt.figure(figsize=(11,5),dpi=150)\n",
    "sns.heatmap(profiles_pivot.drop(['cohort_size', 0],axis=1), annot=True, fmt = '.2%')\n",
    "plt.title('Тепловая карта коэффициента удержания')\n",
    "plt.xlabel(\"День жизни\")\n",
    "plt.ylabel(\"Дата начала когорты\");"
   ]
  },
  {
   "cell_type": "markdown",
   "metadata": {},
   "source": [
    "Удержание через неделю менее 8%, а через 2 недели местами ниже 1%. Некоторые дни выделяются привлечение большего количества людей, но на удержании это не сказывается, через неделю эти кагорты сравниваются с остальными днями."
   ]
  },
  {
   "cell_type": "markdown",
   "metadata": {},
   "source": [
    "### DAU"
   ]
  },
  {
   "cell_type": "code",
   "execution_count": 24,
   "metadata": {},
   "outputs": [
    {
     "data": {
      "image/png": "[encoded data removed]",
      "text/plain": [
       "<Figure size 1600x400 with 1 Axes>"
      ]
     },
     "metadata": {},
     "output_type": "display_data"
    }
   ],
   "source": [
    "dau = mob.pivot_table(index=pd.DatetimeIndex(mob['event_time']).date, values='user_id', aggfunc='nunique')\n",
    "\n",
    "plt.figure(figsize=(16,4))\n",
    "plt.bar([i.strftime('%d') for i in dau.index], dau['user_id'])\n",
    "plt.title('Количество уникальных пользователей в день')\n",
    "plt.xlabel(str(dau.index[0].strftime('%d %b')) + ' - ' + str(dau.index[-1].strftime('%d %b')))\n",
    "plt.ylabel(\"Число пользователей\");"
   ]
  },
  {
   "cell_type": "code",
   "execution_count": 25,
   "metadata": {},
   "outputs": [
    {
     "data": {
      "image/png": "[encoded data removed]",
      "text/plain": [
       "<Figure size 1600x400 with 1 Axes>"
      ]
     },
     "metadata": {},
     "output_type": "display_data"
    }
   ],
   "source": [
    "new_users = []\n",
    "def count_new(users):\n",
    "    count_new_users = 0\n",
    "    for user in users:\n",
    "        if user not in new_users:\n",
    "            new_users.append(user)\n",
    "            count_new_users += 1\n",
    "    return count_new_users\n",
    "new_users_pivot = mob.pivot_table(index=pd.DatetimeIndex(mob['event_time']).date, values='user_id', aggfunc=[lambda x: count_new(x)])\n",
    "\n",
    "plt.figure(figsize=(16,4))\n",
    "plt.bar([i.strftime('%d') for i in new_users_pivot.index], new_users_pivot[('<lambda>', 'user_id')])\n",
    "plt.title('Количество новых пользователей в день')\n",
    "plt.xlabel(str(dau.index[0].strftime('%d %b')) + ' - ' + str(dau.index[-1].strftime('%d %b')))\n",
    "plt.ylabel(\"Число пользователей\");"
   ]
  },
  {
   "cell_type": "markdown",
   "metadata": {},
   "source": [
    "В целом есть тренд на увеличение уникальных пользователей. заметен наплыв новых пользователей в начале недели и провал к выходным, но в целом виден дренд на снижение новых пользователей. Возможно стоит проработать маркетинговую стратегию"
   ]
  },
  {
   "cell_type": "markdown",
   "metadata": {},
   "source": [
    "### Поиск Сценариев"
   ]
  },
  {
   "cell_type": "markdown",
   "metadata": {},
   "source": [
    "#### Удалим дубликаты событий в рамках одной сессии"
   ]
  },
  {
   "cell_type": "code",
   "execution_count": 26,
   "metadata": {},
   "outputs": [],
   "source": [
    "mob.drop_duplicates(subset=['session_id', 'event_name'], keep='first', inplace=True, ignore_index=True)"
   ]
  },
  {
   "cell_type": "markdown",
   "metadata": {},
   "source": [
    "#### Добавим столбцы с нумерацией шагов и узлами"
   ]
  },
  {
   "cell_type": "markdown",
   "metadata": {},
   "source": [
    "Нам необходимы столбцы (источник -> цель), они понадобятся нам для построения диаграммы Sankey"
   ]
  },
  {
   "cell_type": "code",
   "execution_count": 27,
   "metadata": {},
   "outputs": [
    {
     "data": {
      "text/html": [
       "<div>\n",
       "<style scoped>\n",
       "    .dataframe tbody tr th:only-of-type {\n",
       "        vertical-align: middle;\n",
       "    }\n",
       "\n",
       "    .dataframe tbody tr th {\n",
       "        vertical-align: top;\n",
       "    }\n",
       "\n",
       "    .dataframe thead th {\n",
       "        text-align: right;\n",
       "    }\n",
       "</style>\n",
       "<table border=\"1\" class=\"dataframe\">\n",
       "  <thead>\n",
       "    <tr style=\"text-align: right;\">\n",
       "      <th></th>\n",
       "      <th>session_id</th>\n",
       "      <th>step</th>\n",
       "      <th>event_time</th>\n",
       "      <th>user_id</th>\n",
       "      <th>mobile_source</th>\n",
       "      <th>event_name</th>\n",
       "      <th>target_event</th>\n",
       "    </tr>\n",
       "  </thead>\n",
       "  <tbody>\n",
       "    <tr>\n",
       "      <th>0</th>\n",
       "      <td>1</td>\n",
       "      <td>1</td>\n",
       "      <td>2019-10-09 18:33:55.577963</td>\n",
       "      <td>0001b1d5-b74a-4cbf-aeb0-7df5947bf349</td>\n",
       "      <td>other</td>\n",
       "      <td>map</td>\n",
       "      <td>NaN</td>\n",
       "    </tr>\n",
       "    <tr>\n",
       "      <th>1</th>\n",
       "      <td>2</td>\n",
       "      <td>1</td>\n",
       "      <td>2019-10-21 19:53:38.767230</td>\n",
       "      <td>0001b1d5-b74a-4cbf-aeb0-7df5947bf349</td>\n",
       "      <td>other</td>\n",
       "      <td>map</td>\n",
       "      <td>NaN</td>\n",
       "    </tr>\n",
       "    <tr>\n",
       "      <th>2</th>\n",
       "      <td>3</td>\n",
       "      <td>1</td>\n",
       "      <td>2019-10-21 19:56:49.417415</td>\n",
       "      <td>0001b1d5-b74a-4cbf-aeb0-7df5947bf349</td>\n",
       "      <td>other</td>\n",
       "      <td>map</td>\n",
       "      <td>NaN</td>\n",
       "    </tr>\n",
       "    <tr>\n",
       "      <th>3</th>\n",
       "      <td>4</td>\n",
       "      <td>1</td>\n",
       "      <td>2019-10-22 11:18:14.635436</td>\n",
       "      <td>0001b1d5-b74a-4cbf-aeb0-7df5947bf349</td>\n",
       "      <td>other</td>\n",
       "      <td>map</td>\n",
       "      <td>NaN</td>\n",
       "    </tr>\n",
       "    <tr>\n",
       "      <th>4</th>\n",
       "      <td>5</td>\n",
       "      <td>1</td>\n",
       "      <td>2019-10-22 11:25:33.508919</td>\n",
       "      <td>0001b1d5-b74a-4cbf-aeb0-7df5947bf349</td>\n",
       "      <td>other</td>\n",
       "      <td>map</td>\n",
       "      <td>NaN</td>\n",
       "    </tr>\n",
       "    <tr>\n",
       "      <th>5</th>\n",
       "      <td>6</td>\n",
       "      <td>1</td>\n",
       "      <td>2019-10-19 21:34:33.849769</td>\n",
       "      <td>00157779-810c-4498-9e05-a1e9e3cedf93</td>\n",
       "      <td>yandex</td>\n",
       "      <td>search_simple</td>\n",
       "      <td>NaN</td>\n",
       "    </tr>\n",
       "    <tr>\n",
       "      <th>6</th>\n",
       "      <td>7</td>\n",
       "      <td>1</td>\n",
       "      <td>2019-10-19 21:35:19.296599</td>\n",
       "      <td>00157779-810c-4498-9e05-a1e9e3cedf93</td>\n",
       "      <td>yandex</td>\n",
       "      <td>search_simple</td>\n",
       "      <td>photos_show</td>\n",
       "    </tr>\n",
       "    <tr>\n",
       "      <th>7</th>\n",
       "      <td>7</td>\n",
       "      <td>2</td>\n",
       "      <td>2019-10-19 21:40:38.990477</td>\n",
       "      <td>00157779-810c-4498-9e05-a1e9e3cedf93</td>\n",
       "      <td>yandex</td>\n",
       "      <td>photos_show</td>\n",
       "      <td>NaN</td>\n",
       "    </tr>\n",
       "    <tr>\n",
       "      <th>8</th>\n",
       "      <td>8</td>\n",
       "      <td>1</td>\n",
       "      <td>2019-10-19 21:42:13.837523</td>\n",
       "      <td>00157779-810c-4498-9e05-a1e9e3cedf93</td>\n",
       "      <td>yandex</td>\n",
       "      <td>photos_show</td>\n",
       "      <td>NaN</td>\n",
       "    </tr>\n",
       "    <tr>\n",
       "      <th>9</th>\n",
       "      <td>9</td>\n",
       "      <td>1</td>\n",
       "      <td>2019-10-19 21:44:55.589731</td>\n",
       "      <td>00157779-810c-4498-9e05-a1e9e3cedf93</td>\n",
       "      <td>yandex</td>\n",
       "      <td>photos_show</td>\n",
       "      <td>NaN</td>\n",
       "    </tr>\n",
       "  </tbody>\n",
       "</table>\n",
       "</div>"
      ],
      "text/plain": [
       "   session_id  step                 event_time  \\\n",
       "0           1     1 2019-10-09 18:33:55.577963   \n",
       "1           2     1 2019-10-21 19:53:38.767230   \n",
       "2           3     1 2019-10-21 19:56:49.417415   \n",
       "3           4     1 2019-10-22 11:18:14.635436   \n",
       "4           5     1 2019-10-22 11:25:33.508919   \n",
       "5           6     1 2019-10-19 21:34:33.849769   \n",
       "6           7     1 2019-10-19 21:35:19.296599   \n",
       "7           7     2 2019-10-19 21:40:38.990477   \n",
       "8           8     1 2019-10-19 21:42:13.837523   \n",
       "9           9     1 2019-10-19 21:44:55.589731   \n",
       "\n",
       "                                user_id mobile_source     event_name  \\\n",
       "0  0001b1d5-b74a-4cbf-aeb0-7df5947bf349         other            map   \n",
       "1  0001b1d5-b74a-4cbf-aeb0-7df5947bf349         other            map   \n",
       "2  0001b1d5-b74a-4cbf-aeb0-7df5947bf349         other            map   \n",
       "3  0001b1d5-b74a-4cbf-aeb0-7df5947bf349         other            map   \n",
       "4  0001b1d5-b74a-4cbf-aeb0-7df5947bf349         other            map   \n",
       "5  00157779-810c-4498-9e05-a1e9e3cedf93        yandex  search_simple   \n",
       "6  00157779-810c-4498-9e05-a1e9e3cedf93        yandex  search_simple   \n",
       "7  00157779-810c-4498-9e05-a1e9e3cedf93        yandex    photos_show   \n",
       "8  00157779-810c-4498-9e05-a1e9e3cedf93        yandex    photos_show   \n",
       "9  00157779-810c-4498-9e05-a1e9e3cedf93        yandex    photos_show   \n",
       "\n",
       "  target_event  \n",
       "0          NaN  \n",
       "1          NaN  \n",
       "2          NaN  \n",
       "3          NaN  \n",
       "4          NaN  \n",
       "5          NaN  \n",
       "6  photos_show  \n",
       "7          NaN  \n",
       "8          NaN  \n",
       "9          NaN  "
      ]
     },
     "execution_count": 27,
     "metadata": {},
     "output_type": "execute_result"
    }
   ],
   "source": [
    "# добавляем шаги\n",
    "mob['step'] = mob.groupby('session_id').cumcount() + 1\n",
    "# добавляем столбец цели\n",
    "mob['target_event'] = mob.groupby('session_id')['event_name'].shift(-1)\n",
    "\n",
    "# удалим все пары source-target, шаг которых превышает 7\n",
    "mob = mob[mob['step'] <= 7].copy().reset_index(drop=True)\n",
    "\n",
    "# изменим порядок столбцов для удобства\n",
    "mob = mob[['session_id', 'step', 'event_time', 'user_id', 'mobile_source', 'event_name', 'target_event']]\n",
    "\n",
    "mob.head(10)"
   ]
  },
  {
   "cell_type": "markdown",
   "metadata": {},
   "source": [
    "#### Подготовим данные для диаграммы Санкей"
   ]
  },
  {
   "cell_type": "code",
   "execution_count": 28,
   "metadata": {},
   "outputs": [],
   "source": [
    "def lists_for_plot(df):\n",
    "    source_indexes = {}\n",
    "    count = 0\n",
    "\n",
    "    for no, step in enumerate(df['step'].unique().tolist()):\n",
    "        source_indexes[no + 1] = {\n",
    "            'sources': df[df['step'] == step]['event_name'].unique().tolist(),\n",
    "            'sources_index': [],\n",
    "        }\n",
    "        for _ in range(len(source_indexes[no+1]['sources'])):\n",
    "            source_indexes[no+1]['sources_index'].append(count)\n",
    "            count += 1\n",
    "\n",
    "    for key, value_ in source_indexes.items():\n",
    "        source_indexes[key]['sources_dict'] = {}\n",
    "        for name, no in zip(value_['sources'], source_indexes[key]['sources_index']):\n",
    "            source_indexes[key]['sources_dict'][name] = no \n",
    "\n",
    "    sources = []\n",
    "    targets = []\n",
    "    values = []\n",
    "    labels = []\n",
    "    link_color = []\n",
    "    link_text = []\n",
    "    colors = {}\n",
    "    for label in mob['event_name'].unique():\n",
    "        r, g, b = np.random.randint(255, size=3)            \n",
    "        colors[label] = f'rgba({r}, {g}, {b}, 1)'\n",
    "\n",
    "    for step in sorted(mob['step'].unique()):\n",
    "        if step + 1 not in source_indexes:\n",
    "            continue\n",
    "\n",
    "        temp_dict_source = source_indexes[step]['sources_dict']\n",
    "        temp_dict_target = source_indexes[step+1]['sources_dict']\n",
    "\n",
    "        for source, index_source in temp_dict_source.items():\n",
    "            for target, index_target in temp_dict_target.items():           \n",
    "                temp_df = mob[(mob['step'] == step)&(mob['event_name'] == source)&(mob['target_event'] == target)]\n",
    "                value = len(temp_df)\n",
    "                if value > 10:\n",
    "                    sources.append(index_source)\n",
    "                    targets.append(index_target)\n",
    "                    values.append(value)\n",
    "                    link_color.append(colors[source].replace(', 1)', ', 0.2)'))\n",
    "\n",
    "    labels = []\n",
    "    colors_labels = []\n",
    "    for value__ in source_indexes.values():\n",
    "        for name in value__['sources']:\n",
    "            labels.append(name)\n",
    "            colors_labels.append(colors[name])\n",
    "\n",
    "    zip_lists = list(zip(sources, targets, values))\n",
    "    perc_values = []\n",
    "    unique_dict = {}\n",
    "\n",
    "    for source, target, value in zip_lists:\n",
    "        if source not in unique_dict:\n",
    "            unique_dict[source] = 0\n",
    "            for sr, tg, vl in zip_lists:\n",
    "                if sr == source:\n",
    "                    unique_dict[source] += vl\n",
    "\n",
    "    for source, target, value in zip_lists:\n",
    "        perc_values.append(round(100 * value / unique_dict[source], 1))\n",
    "\n",
    "    link_text = [f\"{perc}%\" for perc in perc_values]\n",
    "    return {'sources': sources, \n",
    "            'targets': targets, \n",
    "            'values': values, \n",
    "            'labels': labels, \n",
    "            'colors_labels': colors_labels, \n",
    "            'link_color': link_color, \n",
    "            'link_text': link_text}\n",
    "    \n",
    "data_for_plot = lists_for_plot(mob)"
   ]
  },
  {
   "cell_type": "markdown",
   "metadata": {},
   "source": [
    "#### Строим диаграмму Санкей"
   ]
  },
  {
   "cell_type": "code",
   "execution_count": 29,
   "metadata": {},
   "outputs": [
    {
     "data": {
      "application/vnd.plotly.v1+json": {
       "config": {
        "plotlyServerURL": "https://plotly.com"
       },
       "data": [
        {
         "domain": {
          "x": [
           0,
           1
          ],
          "y": [
           0,
           1
          ]
         },
         "link": {
          "color": [
           "rgba(70, 12, 70, 0.2)",
           "rgba(70, 12, 70, 0.2)",
           "rgba(70, 12, 70, 0.2)",
           "rgba(70, 12, 70, 0.2)",
           "rgba(70, 12, 70, 0.2)",
           "rgba(183, 87, 184, 0.2)",
           "rgba(183, 87, 184, 0.2)",
           "rgba(183, 87, 184, 0.2)",
           "rgba(128, 96, 70, 0.2)",
           "rgba(128, 96, 70, 0.2)",
           "rgba(128, 96, 70, 0.2)",
           "rgba(175, 37, 25, 0.2)",
           "rgba(175, 37, 25, 0.2)",
           "rgba(175, 37, 25, 0.2)",
           "rgba(175, 37, 25, 0.2)",
           "rgba(175, 37, 25, 0.2)",
           "rgba(164, 224, 151, 0.2)",
           "rgba(164, 224, 151, 0.2)",
           "rgba(164, 224, 151, 0.2)",
           "rgba(164, 224, 151, 0.2)",
           "rgba(164, 224, 151, 0.2)",
           "rgba(164, 224, 151, 0.2)",
           "rgba(164, 224, 151, 0.2)",
           "rgba(85, 51, 94, 0.2)",
           "rgba(85, 51, 94, 0.2)",
           "rgba(85, 51, 94, 0.2)",
           "rgba(157, 122, 194, 0.2)",
           "rgba(157, 122, 194, 0.2)",
           "rgba(157, 122, 194, 0.2)",
           "rgba(157, 122, 194, 0.2)",
           "rgba(15, 56, 205, 0.2)",
           "rgba(15, 56, 205, 0.2)",
           "rgba(128, 96, 70, 0.2)",
           "rgba(128, 96, 70, 0.2)",
           "rgba(200, 150, 188, 0.2)",
           "rgba(164, 224, 151, 0.2)",
           "rgba(157, 122, 194, 0.2)",
           "rgba(157, 122, 194, 0.2)",
           "rgba(70, 12, 70, 0.2)",
           "rgba(85, 51, 94, 0.2)",
           "rgba(85, 51, 94, 0.2)",
           "rgba(175, 37, 25, 0.2)",
           "rgba(164, 224, 151, 0.2)"
          ],
          "label": [
           "15.4%",
           "59.0%",
           "19.7%",
           "3.1%",
           "2.8%",
           "76.5%",
           "14.8%",
           "8.7%",
           "35.0%",
           "41.4%",
           "23.6%",
           "45.1%",
           "10.7%",
           "19.7%",
           "12.3%",
           "12.3%",
           "12.4%",
           "3.4%",
           "59.4%",
           "2.9%",
           "8.8%",
           "6.3%",
           "6.8%",
           "8.0%",
           "20.3%",
           "71.7%",
           "29.0%",
           "27.4%",
           "19.5%",
           "24.1%",
           "52.8%",
           "47.2%",
           "51.0%",
           "49.0%",
           "100.0%",
           "100.0%",
           "37.8%",
           "62.2%",
           "100.0%",
           "81.4%",
           "18.6%",
           "100.0%",
           "100.0%"
          ],
          "source": [
           0,
           0,
           0,
           0,
           0,
           1,
           1,
           1,
           2,
           2,
           2,
           3,
           3,
           3,
           3,
           3,
           4,
           4,
           4,
           4,
           4,
           4,
           4,
           5,
           5,
           5,
           6,
           6,
           6,
           6,
           7,
           7,
           9,
           9,
           11,
           12,
           13,
           13,
           14,
           15,
           15,
           17,
           19
          ],
          "target": [
           12,
           13,
           15,
           16,
           17,
           9,
           12,
           17,
           10,
           12,
           17,
           9,
           10,
           12,
           13,
           14,
           9,
           10,
           11,
           13,
           14,
           16,
           17,
           12,
           13,
           14,
           9,
           12,
           14,
           15,
           12,
           14,
           19,
           20,
           18,
           21,
           19,
           25,
           22,
           22,
           24,
           18,
           27
          ],
          "value": [
           89,
           341,
           114,
           18,
           16,
           527,
           102,
           60,
           148,
           175,
           100,
           55,
           13,
           24,
           15,
           15,
           55,
           15,
           263,
           13,
           39,
           28,
           30,
           36,
           91,
           321,
           70,
           66,
           47,
           58,
           19,
           17,
           25,
           24,
           19,
           120,
           14,
           23,
           104,
           57,
           13,
           17,
           13
          ]
         },
         "node": {
          "color": [
           "rgba(70, 12, 70, 1)",
           "rgba(183, 87, 184, 1)",
           "rgba(128, 96, 70, 1)",
           "rgba(175, 37, 25, 1)",
           "rgba(164, 224, 151, 1)",
           "rgba(85, 51, 94, 1)",
           "rgba(157, 122, 194, 1)",
           "rgba(15, 56, 205, 1)",
           "rgba(200, 150, 188, 1)",
           "rgba(128, 96, 70, 1)",
           "rgba(183, 87, 184, 1)",
           "rgba(200, 150, 188, 1)",
           "rgba(164, 224, 151, 1)",
           "rgba(157, 122, 194, 1)",
           "rgba(70, 12, 70, 1)",
           "rgba(85, 51, 94, 1)",
           "rgba(15, 56, 205, 1)",
           "rgba(175, 37, 25, 1)",
           "rgba(128, 96, 70, 1)",
           "rgba(164, 224, 151, 1)",
           "rgba(175, 37, 25, 1)",
           "rgba(200, 150, 188, 1)",
           "rgba(157, 122, 194, 1)",
           "rgba(183, 87, 184, 1)",
           "rgba(70, 12, 70, 1)",
           "rgba(85, 51, 94, 1)",
           "rgba(15, 56, 205, 1)",
           "rgba(200, 150, 188, 1)",
           "rgba(157, 122, 194, 1)",
           "rgba(164, 224, 151, 1)",
           "rgba(15, 56, 205, 1)",
           "rgba(85, 51, 94, 1)",
           "rgba(175, 37, 25, 1)",
           "rgba(128, 96, 70, 1)",
           "rgba(70, 12, 70, 1)",
           "rgba(183, 87, 184, 1)",
           "rgba(175, 37, 25, 1)",
           "rgba(157, 122, 194, 1)"
          ],
          "label": [
           "map",
           "search_simple",
           "photos_show",
           "favorites_add",
           "contacts_show",
           "search_special",
           "advert_open",
           "tips_click",
           "contacts_call",
           "photos_show",
           "search_simple",
           "contacts_call",
           "contacts_show",
           "advert_open",
           "map",
           "search_special",
           "tips_click",
           "favorites_add",
           "photos_show",
           "contacts_show",
           "favorites_add",
           "contacts_call",
           "advert_open",
           "search_simple",
           "map",
           "search_special",
           "tips_click",
           "contacts_call",
           "advert_open",
           "contacts_show",
           "tips_click",
           "search_special",
           "favorites_add",
           "photos_show",
           "map",
           "search_simple",
           "favorites_add",
           "advert_open"
          ],
          "line": {
           "color": "black",
           "width": 0.1
          },
          "pad": 50,
          "thickness": 15
         },
         "orientation": "h",
         "type": "sankey",
         "valueformat": ".0f"
        }
       ],
       "layout": {
        "font": {
         "size": 10
        },
        "height": 1000,
        "template": {
         "data": {
          "bar": [
           {
            "error_x": {
             "color": "#2a3f5f"
            },
            "error_y": {
             "color": "#2a3f5f"
            },
            "marker": {
             "line": {
              "color": "#E5ECF6",
              "width": 0.5
             },
             "pattern": {
              "fillmode": "overlay",
              "size": 10,
              "solidity": 0.2
             }
            },
            "type": "bar"
           }
          ],
          "barpolar": [
           {
            "marker": {
             "line": {
              "color": "#E5ECF6",
              "width": 0.5
             },
             "pattern": {
              "fillmode": "overlay",
              "size": 10,
              "solidity": 0.2
             }
            },
            "type": "barpolar"
           }
          ],
          "carpet": [
           {
            "aaxis": {
             "endlinecolor": "#2a3f5f",
             "gridcolor": "white",
             "linecolor": "white",
             "minorgridcolor": "white",
             "startlinecolor": "#2a3f5f"
            },
            "baxis": {
             "endlinecolor": "#2a3f5f",
             "gridcolor": "white",
             "linecolor": "white",
             "minorgridcolor": "white",
             "startlinecolor": "#2a3f5f"
            },
            "type": "carpet"
           }
          ],
          "choropleth": [
           {
            "colorbar": {
             "outlinewidth": 0,
             "ticks": ""
            },
            "type": "choropleth"
           }
          ],
          "contour": [
           {
            "colorbar": {
             "outlinewidth": 0,
             "ticks": ""
            },
            "colorscale": [
             [
              0,
              "#0d0887"
             ],
             [
              0.1111111111111111,
              "#46039f"
             ],
             [
              0.2222222222222222,
              "#7201a8"
             ],
             [
              0.3333333333333333,
              "#9c179e"
             ],
             [
              0.4444444444444444,
              "#bd3786"
             ],
             [
              0.5555555555555556,
              "#d8576b"
             ],
             [
              0.6666666666666666,
              "#ed7953"
             ],
             [
              0.7777777777777778,
              "#fb9f3a"
             ],
             [
              0.8888888888888888,
              "#fdca26"
             ],
             [
              1,
              "#f0f921"
             ]
            ],
            "type": "contour"
           }
          ],
          "contourcarpet": [
           {
            "colorbar": {
             "outlinewidth": 0,
             "ticks": ""
            },
            "type": "contourcarpet"
           }
          ],
          "heatmap": [
           {
            "colorbar": {
             "outlinewidth": 0,
             "ticks": ""
            },
            "colorscale": [
             [
              0,
              "#0d0887"
             ],
             [
              0.1111111111111111,
              "#46039f"
             ],
             [
              0.2222222222222222,
              "#7201a8"
             ],
             [
              0.3333333333333333,
              "#9c179e"
             ],
             [
              0.4444444444444444,
              "#bd3786"
             ],
             [
              0.5555555555555556,
              "#d8576b"
             ],
             [
              0.6666666666666666,
              "#ed7953"
             ],
             [
              0.7777777777777778,
              "#fb9f3a"
             ],
             [
              0.8888888888888888,
              "#fdca26"
             ],
             [
              1,
              "#f0f921"
             ]
            ],
            "type": "heatmap"
           }
          ],
          "heatmapgl": [
           {
            "colorbar": {
             "outlinewidth": 0,
             "ticks": ""
            },
            "colorscale": [
             [
              0,
              "#0d0887"
             ],
             [
              0.1111111111111111,
              "#46039f"
             ],
             [
              0.2222222222222222,
              "#7201a8"
             ],
             [
              0.3333333333333333,
              "#9c179e"
             ],
             [
              0.4444444444444444,
              "#bd3786"
             ],
             [
              0.5555555555555556,
              "#d8576b"
             ],
             [
              0.6666666666666666,
              "#ed7953"
             ],
             [
              0.7777777777777778,
              "#fb9f3a"
             ],
             [
              0.8888888888888888,
              "#fdca26"
             ],
             [
              1,
              "#f0f921"
             ]
            ],
            "type": "heatmapgl"
           }
          ],
          "histogram": [
           {
            "marker": {
             "pattern": {
              "fillmode": "overlay",
              "size": 10,
              "solidity": 0.2
             }
            },
            "type": "histogram"
           }
          ],
          "histogram2d": [
           {
            "colorbar": {
             "outlinewidth": 0,
             "ticks": ""
            },
            "colorscale": [
             [
              0,
              "#0d0887"
             ],
             [
              0.1111111111111111,
              "#46039f"
             ],
             [
              0.2222222222222222,
              "#7201a8"
             ],
             [
              0.3333333333333333,
              "#9c179e"
             ],
             [
              0.4444444444444444,
              "#bd3786"
             ],
             [
              0.5555555555555556,
              "#d8576b"
             ],
             [
              0.6666666666666666,
              "#ed7953"
             ],
             [
              0.7777777777777778,
              "#fb9f3a"
             ],
             [
              0.8888888888888888,
              "#fdca26"
             ],
             [
              1,
              "#f0f921"
             ]
            ],
            "type": "histogram2d"
           }
          ],
          "histogram2dcontour": [
           {
            "colorbar": {
             "outlinewidth": 0,
             "ticks": ""
            },
            "colorscale": [
             [
              0,
              "#0d0887"
             ],
             [
              0.1111111111111111,
              "#46039f"
             ],
             [
              0.2222222222222222,
              "#7201a8"
             ],
             [
              0.3333333333333333,
              "#9c179e"
             ],
             [
              0.4444444444444444,
              "#bd3786"
             ],
             [
              0.5555555555555556,
              "#d8576b"
             ],
             [
              0.6666666666666666,
              "#ed7953"
             ],
             [
              0.7777777777777778,
              "#fb9f3a"
             ],
             [
              0.8888888888888888,
              "#fdca26"
             ],
             [
              1,
              "#f0f921"
             ]
            ],
            "type": "histogram2dcontour"
           }
          ],
          "mesh3d": [
           {
            "colorbar": {
             "outlinewidth": 0,
             "ticks": ""
            },
            "type": "mesh3d"
           }
          ],
          "parcoords": [
           {
            "line": {
             "colorbar": {
              "outlinewidth": 0,
              "ticks": ""
             }
            },
            "type": "parcoords"
           }
          ],
          "pie": [
           {
            "automargin": true,
            "type": "pie"
           }
          ],
          "scatter": [
           {
            "fillpattern": {
             "fillmode": "overlay",
             "size": 10,
             "solidity": 0.2
            },
            "type": "scatter"
           }
          ],
          "scatter3d": [
           {
            "line": {
             "colorbar": {
              "outlinewidth": 0,
              "ticks": ""
             }
            },
            "marker": {
             "colorbar": {
              "outlinewidth": 0,
              "ticks": ""
             }
            },
            "type": "scatter3d"
           }
          ],
          "scattercarpet": [
           {
            "marker": {
             "colorbar": {
              "outlinewidth": 0,
              "ticks": ""
             }
            },
            "type": "scattercarpet"
           }
          ],
          "scattergeo": [
           {
            "marker": {
             "colorbar": {
              "outlinewidth": 0,
              "ticks": ""
             }
            },
            "type": "scattergeo"
           }
          ],
          "scattergl": [
           {
            "marker": {
             "colorbar": {
              "outlinewidth": 0,
              "ticks": ""
             }
            },
            "type": "scattergl"
           }
          ],
          "scattermapbox": [
           {
            "marker": {
             "colorbar": {
              "outlinewidth": 0,
              "ticks": ""
             }
            },
            "type": "scattermapbox"
           }
          ],
          "scatterpolar": [
           {
            "marker": {
             "colorbar": {
              "outlinewidth": 0,
              "ticks": ""
             }
            },
            "type": "scatterpolar"
           }
          ],
          "scatterpolargl": [
           {
            "marker": {
             "colorbar": {
              "outlinewidth": 0,
              "ticks": ""
             }
            },
            "type": "scatterpolargl"
           }
          ],
          "scatterternary": [
           {
            "marker": {
             "colorbar": {
              "outlinewidth": 0,
              "ticks": ""
             }
            },
            "type": "scatterternary"
           }
          ],
          "surface": [
           {
            "colorbar": {
             "outlinewidth": 0,
             "ticks": ""
            },
            "colorscale": [
             [
              0,
              "#0d0887"
             ],
             [
              0.1111111111111111,
              "#46039f"
             ],
             [
              0.2222222222222222,
              "#7201a8"
             ],
             [
              0.3333333333333333,
              "#9c179e"
             ],
             [
              0.4444444444444444,
              "#bd3786"
             ],
             [
              0.5555555555555556,
              "#d8576b"
             ],
             [
              0.6666666666666666,
              "#ed7953"
             ],
             [
              0.7777777777777778,
              "#fb9f3a"
             ],
             [
              0.8888888888888888,
              "#fdca26"
             ],
             [
              1,
              "#f0f921"
             ]
            ],
            "type": "surface"
           }
          ],
          "table": [
           {
            "cells": {
             "fill": {
              "color": "#EBF0F8"
             },
             "line": {
              "color": "white"
             }
            },
            "header": {
             "fill": {
              "color": "#C8D4E3"
             },
             "line": {
              "color": "white"
             }
            },
            "type": "table"
           }
          ]
         },
         "layout": {
          "annotationdefaults": {
           "arrowcolor": "#2a3f5f",
           "arrowhead": 0,
           "arrowwidth": 1
          },
          "autotypenumbers": "strict",
          "coloraxis": {
           "colorbar": {
            "outlinewidth": 0,
            "ticks": ""
           }
          },
          "colorscale": {
           "diverging": [
            [
             0,
             "#8e0152"
            ],
            [
             0.1,
             "#c51b7d"
            ],
            [
             0.2,
             "#de77ae"
            ],
            [
             0.3,
             "#f1b6da"
            ],
            [
             0.4,
             "#fde0ef"
            ],
            [
             0.5,
             "#f7f7f7"
            ],
            [
             0.6,
             "#e6f5d0"
            ],
            [
             0.7,
             "#b8e186"
            ],
            [
             0.8,
             "#7fbc41"
            ],
            [
             0.9,
             "#4d9221"
            ],
            [
             1,
             "#276419"
            ]
           ],
           "sequential": [
            [
             0,
             "#0d0887"
            ],
            [
             0.1111111111111111,
             "#46039f"
            ],
            [
             0.2222222222222222,
             "#7201a8"
            ],
            [
             0.3333333333333333,
             "#9c179e"
            ],
            [
             0.4444444444444444,
             "#bd3786"
            ],
            [
             0.5555555555555556,
             "#d8576b"
            ],
            [
             0.6666666666666666,
             "#ed7953"
            ],
            [
             0.7777777777777778,
             "#fb9f3a"
            ],
            [
             0.8888888888888888,
             "#fdca26"
            ],
            [
             1,
             "#f0f921"
            ]
           ],
           "sequentialminus": [
            [
             0,
             "#0d0887"
            ],
            [
             0.1111111111111111,
             "#46039f"
            ],
            [
             0.2222222222222222,
             "#7201a8"
            ],
            [
             0.3333333333333333,
             "#9c179e"
            ],
            [
             0.4444444444444444,
             "#bd3786"
            ],
            [
             0.5555555555555556,
             "#d8576b"
            ],
            [
             0.6666666666666666,
             "#ed7953"
            ],
            [
             0.7777777777777778,
             "#fb9f3a"
            ],
            [
             0.8888888888888888,
             "#fdca26"
            ],
            [
             1,
             "#f0f921"
            ]
           ]
          },
          "colorway": [
           "#636efa",
           "#EF553B",
           "#00cc96",
           "#ab63fa",
           "#FFA15A",
           "#19d3f3",
           "#FF6692",
           "#B6E880",
           "#FF97FF",
           "#FECB52"
          ],
          "font": {
           "color": "#2a3f5f"
          },
          "geo": {
           "bgcolor": "white",
           "lakecolor": "white",
           "landcolor": "#E5ECF6",
           "showlakes": true,
           "showland": true,
           "subunitcolor": "white"
          },
          "hoverlabel": {
           "align": "left"
          },
          "hovermode": "closest",
          "mapbox": {
           "style": "light"
          },
          "paper_bgcolor": "white",
          "plot_bgcolor": "#E5ECF6",
          "polar": {
           "angularaxis": {
            "gridcolor": "white",
            "linecolor": "white",
            "ticks": ""
           },
           "bgcolor": "#E5ECF6",
           "radialaxis": {
            "gridcolor": "white",
            "linecolor": "white",
            "ticks": ""
           }
          },
          "scene": {
           "xaxis": {
            "backgroundcolor": "#E5ECF6",
            "gridcolor": "white",
            "gridwidth": 2,
            "linecolor": "white",
            "showbackground": true,
            "ticks": "",
            "zerolinecolor": "white"
           },
           "yaxis": {
            "backgroundcolor": "#E5ECF6",
            "gridcolor": "white",
            "gridwidth": 2,
            "linecolor": "white",
            "showbackground": true,
            "ticks": "",
            "zerolinecolor": "white"
           },
           "zaxis": {
            "backgroundcolor": "#E5ECF6",
            "gridcolor": "white",
            "gridwidth": 2,
            "linecolor": "white",
            "showbackground": true,
            "ticks": "",
            "zerolinecolor": "white"
           }
          },
          "shapedefaults": {
           "line": {
            "color": "#2a3f5f"
           }
          },
          "ternary": {
           "aaxis": {
            "gridcolor": "white",
            "linecolor": "white",
            "ticks": ""
           },
           "baxis": {
            "gridcolor": "white",
            "linecolor": "white",
            "ticks": ""
           },
           "bgcolor": "#E5ECF6",
           "caxis": {
            "gridcolor": "white",
            "linecolor": "white",
            "ticks": ""
           }
          },
          "title": {
           "x": 0.05
          },
          "xaxis": {
           "automargin": true,
           "gridcolor": "white",
           "linecolor": "white",
           "ticks": "",
           "title": {
            "standoff": 15
           },
           "zerolinecolor": "white",
           "zerolinewidth": 2
          },
          "yaxis": {
           "automargin": true,
           "gridcolor": "white",
           "linecolor": "white",
           "ticks": "",
           "title": {
            "standoff": 15
           },
           "zerolinecolor": "white",
           "zerolinewidth": 2
          }
         }
        },
        "title": {
         "text": "Sankey Diagram"
        },
        "width": 1000
       }
      }
     },
     "metadata": {},
     "output_type": "display_data"
    }
   ],
   "source": [
    "fig = go.Figure(data=[go.Sankey(\n",
    "    domain = dict(\n",
    "      x =  [0,1],\n",
    "      y =  [0,1]\n",
    "    ),\n",
    "    orientation = \"h\",\n",
    "    valueformat = \".0f\",\n",
    "    node = dict(\n",
    "      pad = 50,\n",
    "      thickness = 15,\n",
    "      line = dict(color = \"black\", width = 0.1),\n",
    "      label = data_for_plot['labels'],\n",
    "      color = data_for_plot['colors_labels']\n",
    "    ),\n",
    "    link = dict(\n",
    "      source = data_for_plot['sources'],\n",
    "      target = data_for_plot['targets'],\n",
    "      value = data_for_plot['values'],\n",
    "      label = data_for_plot['link_text'],\n",
    "      color = data_for_plot['link_color']\n",
    "  ))])\n",
    "fig.update_layout(title_text=\"Sankey Diagram\", font_size=10, width=1000, height=1000)\n",
    "chart_studio.plotly.plot(fig, filename = 'Sankey_for_yandex_da_project', auto_open=False)\n",
    "fig.show()"
   ]
  },
  {
   "cell_type": "markdown",
   "metadata": {},
   "source": [
    "На [диаграмме](https://chart-studio.plotly.com/~PSImera/1/#plot) видно распределение основных сценариев. Примечательно что не более 4 этапов, а чаще и вовсе 2 этапа пользователю достаточно чтобы добратся до целевого - `contacts_show`.\n",
    "\n",
    "Например:\n",
    "\n",
    "- `search_simple` -> `photos_show` -> `contacts_show` (простой поиск -> просмотр фотографий -> посмотр контактов)\n",
    "\n",
    "- `advert_open` -> `photos_show` - > `contacts_show` (открытие объявления -> просмотр фотографий -> посмотр контактов)\n",
    "\n",
    "- `photos_show` - > `contacts_show` (просмотр фотографий -> посмотр контактов)\n",
    "\n",
    "- `search_simple` -> `contacts_show` (простой поиск -> посмотр контактов)\n",
    "\n",
    "- `search_special` -> `advert_open` -> `contacts_show` (специфический поиск -> открытие объявления -> посмотр контактов)"
   ]
  },
  {
   "cell_type": "markdown",
   "metadata": {},
   "source": [
    "### Воронка событий"
   ]
  },
  {
   "cell_type": "markdown",
   "metadata": {},
   "source": [
    "#### Создадим функцию для построения воронок"
   ]
  },
  {
   "cell_type": "code",
   "execution_count": 30,
   "metadata": {},
   "outputs": [],
   "source": [
    "def funnel(df, n, *args):\n",
    "    event = df[df['event_name'] == args[0]]\n",
    "    users_ids = event['user_id'].unique()\n",
    "    funnel_df = pd.DataFrame({'unique_users' : len(event['user_id'].unique()),\n",
    "                        'general_users' : event.shape[0]},\n",
    "                        index=[args[0]])\n",
    "    \n",
    "    for i in range(1, len(args)):\n",
    "        event = df[(df['user_id'].isin(users_ids)) & (df['event_name'] == args[i])]\n",
    "        users_ids = event['user_id'].unique()\n",
    "        new_row = pd.DataFrame({'unique_users' : len(event['user_id'].unique()),\n",
    "                                'general_users' : event.shape[0]},\n",
    "                                index=[args[i]])\n",
    "        funnel_df = pd.concat([funnel_df,new_row.loc[:]])\n",
    "\n",
    "    fig = go.Figure(go.Funnel(y = list(funnel_df.index), x = list(funnel_df['unique_users']),\n",
    "        textinfo = \"value+percent initial+percent previous\",\n",
    "        opacity = 0.65, marker = {\"color\": ['teal', 'orange', 'blue', 'green', 'silver']}))\n",
    "\n",
    "    fig.update_layout(title=dict(text=f'Воронка событий {str(n)}', x=0.5), yaxis_title='Этапы')\n",
    "    chart_studio.plotly.plot(fig, filename = f'funnel_for_yandex_da_{n}', auto_open=False)\n",
    "    fig.show()"
   ]
  },
  {
   "cell_type": "markdown",
   "metadata": {},
   "source": [
    "#### Построим воронки"
   ]
  },
  {
   "cell_type": "code",
   "execution_count": 31,
   "metadata": {},
   "outputs": [
    {
     "data": {
      "application/vnd.plotly.v1+json": {
       "config": {
        "plotlyServerURL": "https://plotly.com"
       },
       "data": [
        {
         "marker": {
          "color": [
           "teal",
           "orange",
           "blue",
           "green",
           "silver"
          ]
         },
         "opacity": 0.65,
         "textinfo": "value+percent initial+percent previous",
         "type": "funnel",
         "x": [
          787,
          643,
          191
         ],
         "y": [
          "search_simple",
          "photos_show",
          "contacts_show"
         ]
        }
       ],
       "layout": {
        "template": {
         "data": {
          "bar": [
           {
            "error_x": {
             "color": "#2a3f5f"
            },
            "error_y": {
             "color": "#2a3f5f"
            },
            "marker": {
             "line": {
              "color": "#E5ECF6",
              "width": 0.5
             },
             "pattern": {
              "fillmode": "overlay",
              "size": 10,
              "solidity": 0.2
             }
            },
            "type": "bar"
           }
          ],
          "barpolar": [
           {
            "marker": {
             "line": {
              "color": "#E5ECF6",
              "width": 0.5
             },
             "pattern": {
              "fillmode": "overlay",
              "size": 10,
              "solidity": 0.2
             }
            },
            "type": "barpolar"
           }
          ],
          "carpet": [
           {
            "aaxis": {
             "endlinecolor": "#2a3f5f",
             "gridcolor": "white",
             "linecolor": "white",
             "minorgridcolor": "white",
             "startlinecolor": "#2a3f5f"
            },
            "baxis": {
             "endlinecolor": "#2a3f5f",
             "gridcolor": "white",
             "linecolor": "white",
             "minorgridcolor": "white",
             "startlinecolor": "#2a3f5f"
            },
            "type": "carpet"
           }
          ],
          "choropleth": [
           {
            "colorbar": {
             "outlinewidth": 0,
             "ticks": ""
            },
            "type": "choropleth"
           }
          ],
          "contour": [
           {
            "colorbar": {
             "outlinewidth": 0,
             "ticks": ""
            },
            "colorscale": [
             [
              0,
              "#0d0887"
             ],
             [
              0.1111111111111111,
              "#46039f"
             ],
             [
              0.2222222222222222,
              "#7201a8"
             ],
             [
              0.3333333333333333,
              "#9c179e"
             ],
             [
              0.4444444444444444,
              "#bd3786"
             ],
             [
              0.5555555555555556,
              "#d8576b"
             ],
             [
              0.6666666666666666,
              "#ed7953"
             ],
             [
              0.7777777777777778,
              "#fb9f3a"
             ],
             [
              0.8888888888888888,
              "#fdca26"
             ],
             [
              1,
              "#f0f921"
             ]
            ],
            "type": "contour"
           }
          ],
          "contourcarpet": [
           {
            "colorbar": {
             "outlinewidth": 0,
             "ticks": ""
            },
            "type": "contourcarpet"
           }
          ],
          "heatmap": [
           {
            "colorbar": {
             "outlinewidth": 0,
             "ticks": ""
            },
            "colorscale": [
             [
              0,
              "#0d0887"
             ],
             [
              0.1111111111111111,
              "#46039f"
             ],
             [
              0.2222222222222222,
              "#7201a8"
             ],
             [
              0.3333333333333333,
              "#9c179e"
             ],
             [
              0.4444444444444444,
              "#bd3786"
             ],
             [
              0.5555555555555556,
              "#d8576b"
             ],
             [
              0.6666666666666666,
              "#ed7953"
             ],
             [
              0.7777777777777778,
              "#fb9f3a"
             ],
             [
              0.8888888888888888,
              "#fdca26"
             ],
             [
              1,
              "#f0f921"
             ]
            ],
            "type": "heatmap"
           }
          ],
          "heatmapgl": [
           {
            "colorbar": {
             "outlinewidth": 0,
             "ticks": ""
            },
            "colorscale": [
             [
              0,
              "#0d0887"
             ],
             [
              0.1111111111111111,
              "#46039f"
             ],
             [
              0.2222222222222222,
              "#7201a8"
             ],
             [
              0.3333333333333333,
              "#9c179e"
             ],
             [
              0.4444444444444444,
              "#bd3786"
             ],
             [
              0.5555555555555556,
              "#d8576b"
             ],
             [
              0.6666666666666666,
              "#ed7953"
             ],
             [
              0.7777777777777778,
              "#fb9f3a"
             ],
             [
              0.8888888888888888,
              "#fdca26"
             ],
             [
              1,
              "#f0f921"
             ]
            ],
            "type": "heatmapgl"
           }
          ],
          "histogram": [
           {
            "marker": {
             "pattern": {
              "fillmode": "overlay",
              "size": 10,
              "solidity": 0.2
             }
            },
            "type": "histogram"
           }
          ],
          "histogram2d": [
           {
            "colorbar": {
             "outlinewidth": 0,
             "ticks": ""
            },
            "colorscale": [
             [
              0,
              "#0d0887"
             ],
             [
              0.1111111111111111,
              "#46039f"
             ],
             [
              0.2222222222222222,
              "#7201a8"
             ],
             [
              0.3333333333333333,
              "#9c179e"
             ],
             [
              0.4444444444444444,
              "#bd3786"
             ],
             [
              0.5555555555555556,
              "#d8576b"
             ],
             [
              0.6666666666666666,
              "#ed7953"
             ],
             [
              0.7777777777777778,
              "#fb9f3a"
             ],
             [
              0.8888888888888888,
              "#fdca26"
             ],
             [
              1,
              "#f0f921"
             ]
            ],
            "type": "histogram2d"
           }
          ],
          "histogram2dcontour": [
           {
            "colorbar": {
             "outlinewidth": 0,
             "ticks": ""
            },
            "colorscale": [
             [
              0,
              "#0d0887"
             ],
             [
              0.1111111111111111,
              "#46039f"
             ],
             [
              0.2222222222222222,
              "#7201a8"
             ],
             [
              0.3333333333333333,
              "#9c179e"
             ],
             [
              0.4444444444444444,
              "#bd3786"
             ],
             [
              0.5555555555555556,
              "#d8576b"
             ],
             [
              0.6666666666666666,
              "#ed7953"
             ],
             [
              0.7777777777777778,
              "#fb9f3a"
             ],
             [
              0.8888888888888888,
              "#fdca26"
             ],
             [
              1,
              "#f0f921"
             ]
            ],
            "type": "histogram2dcontour"
           }
          ],
          "mesh3d": [
           {
            "colorbar": {
             "outlinewidth": 0,
             "ticks": ""
            },
            "type": "mesh3d"
           }
          ],
          "parcoords": [
           {
            "line": {
             "colorbar": {
              "outlinewidth": 0,
              "ticks": ""
             }
            },
            "type": "parcoords"
           }
          ],
          "pie": [
           {
            "automargin": true,
            "type": "pie"
           }
          ],
          "scatter": [
           {
            "fillpattern": {
             "fillmode": "overlay",
             "size": 10,
             "solidity": 0.2
            },
            "type": "scatter"
           }
          ],
          "scatter3d": [
           {
            "line": {
             "colorbar": {
              "outlinewidth": 0,
              "ticks": ""
             }
            },
            "marker": {
             "colorbar": {
              "outlinewidth": 0,
              "ticks": ""
             }
            },
            "type": "scatter3d"
           }
          ],
          "scattercarpet": [
           {
            "marker": {
             "colorbar": {
              "outlinewidth": 0,
              "ticks": ""
             }
            },
            "type": "scattercarpet"
           }
          ],
          "scattergeo": [
           {
            "marker": {
             "colorbar": {
              "outlinewidth": 0,
              "ticks": ""
             }
            },
            "type": "scattergeo"
           }
          ],
          "scattergl": [
           {
            "marker": {
             "colorbar": {
              "outlinewidth": 0,
              "ticks": ""
             }
            },
            "type": "scattergl"
           }
          ],
          "scattermapbox": [
           {
            "marker": {
             "colorbar": {
              "outlinewidth": 0,
              "ticks": ""
             }
            },
            "type": "scattermapbox"
           }
          ],
          "scatterpolar": [
           {
            "marker": {
             "colorbar": {
              "outlinewidth": 0,
              "ticks": ""
             }
            },
            "type": "scatterpolar"
           }
          ],
          "scatterpolargl": [
           {
            "marker": {
             "colorbar": {
              "outlinewidth": 0,
              "ticks": ""
             }
            },
            "type": "scatterpolargl"
           }
          ],
          "scatterternary": [
           {
            "marker": {
             "colorbar": {
              "outlinewidth": 0,
              "ticks": ""
             }
            },
            "type": "scatterternary"
           }
          ],
          "surface": [
           {
            "colorbar": {
             "outlinewidth": 0,
             "ticks": ""
            },
            "colorscale": [
             [
              0,
              "#0d0887"
             ],
             [
              0.1111111111111111,
              "#46039f"
             ],
             [
              0.2222222222222222,
              "#7201a8"
             ],
             [
              0.3333333333333333,
              "#9c179e"
             ],
             [
              0.4444444444444444,
              "#bd3786"
             ],
             [
              0.5555555555555556,
              "#d8576b"
             ],
             [
              0.6666666666666666,
              "#ed7953"
             ],
             [
              0.7777777777777778,
              "#fb9f3a"
             ],
             [
              0.8888888888888888,
              "#fdca26"
             ],
             [
              1,
              "#f0f921"
             ]
            ],
            "type": "surface"
           }
          ],
          "table": [
           {
            "cells": {
             "fill": {
              "color": "#EBF0F8"
             },
             "line": {
              "color": "white"
             }
            },
            "header": {
             "fill": {
              "color": "#C8D4E3"
             },
             "line": {
              "color": "white"
             }
            },
            "type": "table"
           }
          ]
         },
         "layout": {
          "annotationdefaults": {
           "arrowcolor": "#2a3f5f",
           "arrowhead": 0,
           "arrowwidth": 1
          },
          "autotypenumbers": "strict",
          "coloraxis": {
           "colorbar": {
            "outlinewidth": 0,
            "ticks": ""
           }
          },
          "colorscale": {
           "diverging": [
            [
             0,
             "#8e0152"
            ],
            [
             0.1,
             "#c51b7d"
            ],
            [
             0.2,
             "#de77ae"
            ],
            [
             0.3,
             "#f1b6da"
            ],
            [
             0.4,
             "#fde0ef"
            ],
            [
             0.5,
             "#f7f7f7"
            ],
            [
             0.6,
             "#e6f5d0"
            ],
            [
             0.7,
             "#b8e186"
            ],
            [
             0.8,
             "#7fbc41"
            ],
            [
             0.9,
             "#4d9221"
            ],
            [
             1,
             "#276419"
            ]
           ],
           "sequential": [
            [
             0,
             "#0d0887"
            ],
            [
             0.1111111111111111,
             "#46039f"
            ],
            [
             0.2222222222222222,
             "#7201a8"
            ],
            [
             0.3333333333333333,
             "#9c179e"
            ],
            [
             0.4444444444444444,
             "#bd3786"
            ],
            [
             0.5555555555555556,
             "#d8576b"
            ],
            [
             0.6666666666666666,
             "#ed7953"
            ],
            [
             0.7777777777777778,
             "#fb9f3a"
            ],
            [
             0.8888888888888888,
             "#fdca26"
            ],
            [
             1,
             "#f0f921"
            ]
           ],
           "sequentialminus": [
            [
             0,
             "#0d0887"
            ],
            [
             0.1111111111111111,
             "#46039f"
            ],
            [
             0.2222222222222222,
             "#7201a8"
            ],
            [
             0.3333333333333333,
             "#9c179e"
            ],
            [
             0.4444444444444444,
             "#bd3786"
            ],
            [
             0.5555555555555556,
             "#d8576b"
            ],
            [
             0.6666666666666666,
             "#ed7953"
            ],
            [
             0.7777777777777778,
             "#fb9f3a"
            ],
            [
             0.8888888888888888,
             "#fdca26"
            ],
            [
             1,
             "#f0f921"
            ]
           ]
          },
          "colorway": [
           "#636efa",
           "#EF553B",
           "#00cc96",
           "#ab63fa",
           "#FFA15A",
           "#19d3f3",
           "#FF6692",
           "#B6E880",
           "#FF97FF",
           "#FECB52"
          ],
          "font": {
           "color": "#2a3f5f"
          },
          "geo": {
           "bgcolor": "white",
           "lakecolor": "white",
           "landcolor": "#E5ECF6",
           "showlakes": true,
           "showland": true,
           "subunitcolor": "white"
          },
          "hoverlabel": {
           "align": "left"
          },
          "hovermode": "closest",
          "mapbox": {
           "style": "light"
          },
          "paper_bgcolor": "white",
          "plot_bgcolor": "#E5ECF6",
          "polar": {
           "angularaxis": {
            "gridcolor": "white",
            "linecolor": "white",
            "ticks": ""
           },
           "bgcolor": "#E5ECF6",
           "radialaxis": {
            "gridcolor": "white",
            "linecolor": "white",
            "ticks": ""
           }
          },
          "scene": {
           "xaxis": {
            "backgroundcolor": "#E5ECF6",
            "gridcolor": "white",
            "gridwidth": 2,
            "linecolor": "white",
            "showbackground": true,
            "ticks": "",
            "zerolinecolor": "white"
           },
           "yaxis": {
            "backgroundcolor": "#E5ECF6",
            "gridcolor": "white",
            "gridwidth": 2,
            "linecolor": "white",
            "showbackground": true,
            "ticks": "",
            "zerolinecolor": "white"
           },
           "zaxis": {
            "backgroundcolor": "#E5ECF6",
            "gridcolor": "white",
            "gridwidth": 2,
            "linecolor": "white",
            "showbackground": true,
            "ticks": "",
            "zerolinecolor": "white"
           }
          },
          "shapedefaults": {
           "line": {
            "color": "#2a3f5f"
           }
          },
          "ternary": {
           "aaxis": {
            "gridcolor": "white",
            "linecolor": "white",
            "ticks": ""
           },
           "baxis": {
            "gridcolor": "white",
            "linecolor": "white",
            "ticks": ""
           },
           "bgcolor": "#E5ECF6",
           "caxis": {
            "gridcolor": "white",
            "linecolor": "white",
            "ticks": ""
           }
          },
          "title": {
           "x": 0.05
          },
          "xaxis": {
           "automargin": true,
           "gridcolor": "white",
           "linecolor": "white",
           "ticks": "",
           "title": {
            "standoff": 15
           },
           "zerolinecolor": "white",
           "zerolinewidth": 2
          },
          "yaxis": {
           "automargin": true,
           "gridcolor": "white",
           "linecolor": "white",
           "ticks": "",
           "title": {
            "standoff": 15
           },
           "zerolinecolor": "white",
           "zerolinewidth": 2
          }
         }
        },
        "title": {
         "text": "Воронка событий 1",
         "x": 0.5
        },
        "yaxis": {
         "title": {
          "text": "Этапы"
         }
        }
       }
      }
     },
     "metadata": {},
     "output_type": "display_data"
    }
   ],
   "source": [
    "funnel(mob, 1, 'search_simple', 'photos_show', 'contacts_show')"
   ]
  },
  {
   "cell_type": "markdown",
   "metadata": {},
   "source": [
    "[Воронка 1.](https://chart-studio.plotly.com/~PSImera/3/#/) Довольно большой процент смотрит фото после поиска, но лишь около трети потом смотрит контакты"
   ]
  },
  {
   "cell_type": "code",
   "execution_count": 32,
   "metadata": {},
   "outputs": [
    {
     "data": {
      "application/vnd.plotly.v1+json": {
       "config": {
        "plotlyServerURL": "https://plotly.com"
       },
       "data": [
        {
         "marker": {
          "color": [
           "teal",
           "orange",
           "blue",
           "green",
           "silver"
          ]
         },
         "opacity": 0.65,
         "textinfo": "value+percent initial+percent previous",
         "type": "funnel",
         "x": [
          751,
          73,
          38
         ],
         "y": [
          "advert_open",
          "photos_show",
          "contacts_show"
         ]
        }
       ],
       "layout": {
        "template": {
         "data": {
          "bar": [
           {
            "error_x": {
             "color": "#2a3f5f"
            },
            "error_y": {
             "color": "#2a3f5f"
            },
            "marker": {
             "line": {
              "color": "#E5ECF6",
              "width": 0.5
             },
             "pattern": {
              "fillmode": "overlay",
              "size": 10,
              "solidity": 0.2
             }
            },
            "type": "bar"
           }
          ],
          "barpolar": [
           {
            "marker": {
             "line": {
              "color": "#E5ECF6",
              "width": 0.5
             },
             "pattern": {
              "fillmode": "overlay",
              "size": 10,
              "solidity": 0.2
             }
            },
            "type": "barpolar"
           }
          ],
          "carpet": [
           {
            "aaxis": {
             "endlinecolor": "#2a3f5f",
             "gridcolor": "white",
             "linecolor": "white",
             "minorgridcolor": "white",
             "startlinecolor": "#2a3f5f"
            },
            "baxis": {
             "endlinecolor": "#2a3f5f",
             "gridcolor": "white",
             "linecolor": "white",
             "minorgridcolor": "white",
             "startlinecolor": "#2a3f5f"
            },
            "type": "carpet"
           }
          ],
          "choropleth": [
           {
            "colorbar": {
             "outlinewidth": 0,
             "ticks": ""
            },
            "type": "choropleth"
           }
          ],
          "contour": [
           {
            "colorbar": {
             "outlinewidth": 0,
             "ticks": ""
            },
            "colorscale": [
             [
              0,
              "#0d0887"
             ],
             [
              0.1111111111111111,
              "#46039f"
             ],
             [
              0.2222222222222222,
              "#7201a8"
             ],
             [
              0.3333333333333333,
              "#9c179e"
             ],
             [
              0.4444444444444444,
              "#bd3786"
             ],
             [
              0.5555555555555556,
              "#d8576b"
             ],
             [
              0.6666666666666666,
              "#ed7953"
             ],
             [
              0.7777777777777778,
              "#fb9f3a"
             ],
             [
              0.8888888888888888,
              "#fdca26"
             ],
             [
              1,
              "#f0f921"
             ]
            ],
            "type": "contour"
           }
          ],
          "contourcarpet": [
           {
            "colorbar": {
             "outlinewidth": 0,
             "ticks": ""
            },
            "type": "contourcarpet"
           }
          ],
          "heatmap": [
           {
            "colorbar": {
             "outlinewidth": 0,
             "ticks": ""
            },
            "colorscale": [
             [
              0,
              "#0d0887"
             ],
             [
              0.1111111111111111,
              "#46039f"
             ],
             [
              0.2222222222222222,
              "#7201a8"
             ],
             [
              0.3333333333333333,
              "#9c179e"
             ],
             [
              0.4444444444444444,
              "#bd3786"
             ],
             [
              0.5555555555555556,
              "#d8576b"
             ],
             [
              0.6666666666666666,
              "#ed7953"
             ],
             [
              0.7777777777777778,
              "#fb9f3a"
             ],
             [
              0.8888888888888888,
              "#fdca26"
             ],
             [
              1,
              "#f0f921"
             ]
            ],
            "type": "heatmap"
           }
          ],
          "heatmapgl": [
           {
            "colorbar": {
             "outlinewidth": 0,
             "ticks": ""
            },
            "colorscale": [
             [
              0,
              "#0d0887"
             ],
             [
              0.1111111111111111,
              "#46039f"
             ],
             [
              0.2222222222222222,
              "#7201a8"
             ],
             [
              0.3333333333333333,
              "#9c179e"
             ],
             [
              0.4444444444444444,
              "#bd3786"
             ],
             [
              0.5555555555555556,
              "#d8576b"
             ],
             [
              0.6666666666666666,
              "#ed7953"
             ],
             [
              0.7777777777777778,
              "#fb9f3a"
             ],
             [
              0.8888888888888888,
              "#fdca26"
             ],
             [
              1,
              "#f0f921"
             ]
            ],
            "type": "heatmapgl"
           }
          ],
          "histogram": [
           {
            "marker": {
             "pattern": {
              "fillmode": "overlay",
              "size": 10,
              "solidity": 0.2
             }
            },
            "type": "histogram"
           }
          ],
          "histogram2d": [
           {
            "colorbar": {
             "outlinewidth": 0,
             "ticks": ""
            },
            "colorscale": [
             [
              0,
              "#0d0887"
             ],
             [
              0.1111111111111111,
              "#46039f"
             ],
             [
              0.2222222222222222,
              "#7201a8"
             ],
             [
              0.3333333333333333,
              "#9c179e"
             ],
             [
              0.4444444444444444,
              "#bd3786"
             ],
             [
              0.5555555555555556,
              "#d8576b"
             ],
             [
              0.6666666666666666,
              "#ed7953"
             ],
             [
              0.7777777777777778,
              "#fb9f3a"
             ],
             [
              0.8888888888888888,
              "#fdca26"
             ],
             [
              1,
              "#f0f921"
             ]
            ],
            "type": "histogram2d"
           }
          ],
          "histogram2dcontour": [
           {
            "colorbar": {
             "outlinewidth": 0,
             "ticks": ""
            },
            "colorscale": [
             [
              0,
              "#0d0887"
             ],
             [
              0.1111111111111111,
              "#46039f"
             ],
             [
              0.2222222222222222,
              "#7201a8"
             ],
             [
              0.3333333333333333,
              "#9c179e"
             ],
             [
              0.4444444444444444,
              "#bd3786"
             ],
             [
              0.5555555555555556,
              "#d8576b"
             ],
             [
              0.6666666666666666,
              "#ed7953"
             ],
             [
              0.7777777777777778,
              "#fb9f3a"
             ],
             [
              0.8888888888888888,
              "#fdca26"
             ],
             [
              1,
              "#f0f921"
             ]
            ],
            "type": "histogram2dcontour"
           }
          ],
          "mesh3d": [
           {
            "colorbar": {
             "outlinewidth": 0,
             "ticks": ""
            },
            "type": "mesh3d"
           }
          ],
          "parcoords": [
           {
            "line": {
             "colorbar": {
              "outlinewidth": 0,
              "ticks": ""
             }
            },
            "type": "parcoords"
           }
          ],
          "pie": [
           {
            "automargin": true,
            "type": "pie"
           }
          ],
          "scatter": [
           {
            "fillpattern": {
             "fillmode": "overlay",
             "size": 10,
             "solidity": 0.2
            },
            "type": "scatter"
           }
          ],
          "scatter3d": [
           {
            "line": {
             "colorbar": {
              "outlinewidth": 0,
              "ticks": ""
             }
            },
            "marker": {
             "colorbar": {
              "outlinewidth": 0,
              "ticks": ""
             }
            },
            "type": "scatter3d"
           }
          ],
          "scattercarpet": [
           {
            "marker": {
             "colorbar": {
              "outlinewidth": 0,
              "ticks": ""
             }
            },
            "type": "scattercarpet"
           }
          ],
          "scattergeo": [
           {
            "marker": {
             "colorbar": {
              "outlinewidth": 0,
              "ticks": ""
             }
            },
            "type": "scattergeo"
           }
          ],
          "scattergl": [
           {
            "marker": {
             "colorbar": {
              "outlinewidth": 0,
              "ticks": ""
             }
            },
            "type": "scattergl"
           }
          ],
          "scattermapbox": [
           {
            "marker": {
             "colorbar": {
              "outlinewidth": 0,
              "ticks": ""
             }
            },
            "type": "scattermapbox"
           }
          ],
          "scatterpolar": [
           {
            "marker": {
             "colorbar": {
              "outlinewidth": 0,
              "ticks": ""
             }
            },
            "type": "scatterpolar"
           }
          ],
          "scatterpolargl": [
           {
            "marker": {
             "colorbar": {
              "outlinewidth": 0,
              "ticks": ""
             }
            },
            "type": "scatterpolargl"
           }
          ],
          "scatterternary": [
           {
            "marker": {
             "colorbar": {
              "outlinewidth": 0,
              "ticks": ""
             }
            },
            "type": "scatterternary"
           }
          ],
          "surface": [
           {
            "colorbar": {
             "outlinewidth": 0,
             "ticks": ""
            },
            "colorscale": [
             [
              0,
              "#0d0887"
             ],
             [
              0.1111111111111111,
              "#46039f"
             ],
             [
              0.2222222222222222,
              "#7201a8"
             ],
             [
              0.3333333333333333,
              "#9c179e"
             ],
             [
              0.4444444444444444,
              "#bd3786"
             ],
             [
              0.5555555555555556,
              "#d8576b"
             ],
             [
              0.6666666666666666,
              "#ed7953"
             ],
             [
              0.7777777777777778,
              "#fb9f3a"
             ],
             [
              0.8888888888888888,
              "#fdca26"
             ],
             [
              1,
              "#f0f921"
             ]
            ],
            "type": "surface"
           }
          ],
          "table": [
           {
            "cells": {
             "fill": {
              "color": "#EBF0F8"
             },
             "line": {
              "color": "white"
             }
            },
            "header": {
             "fill": {
              "color": "#C8D4E3"
             },
             "line": {
              "color": "white"
             }
            },
            "type": "table"
           }
          ]
         },
         "layout": {
          "annotationdefaults": {
           "arrowcolor": "#2a3f5f",
           "arrowhead": 0,
           "arrowwidth": 1
          },
          "autotypenumbers": "strict",
          "coloraxis": {
           "colorbar": {
            "outlinewidth": 0,
            "ticks": ""
           }
          },
          "colorscale": {
           "diverging": [
            [
             0,
             "#8e0152"
            ],
            [
             0.1,
             "#c51b7d"
            ],
            [
             0.2,
             "#de77ae"
            ],
            [
             0.3,
             "#f1b6da"
            ],
            [
             0.4,
             "#fde0ef"
            ],
            [
             0.5,
             "#f7f7f7"
            ],
            [
             0.6,
             "#e6f5d0"
            ],
            [
             0.7,
             "#b8e186"
            ],
            [
             0.8,
             "#7fbc41"
            ],
            [
             0.9,
             "#4d9221"
            ],
            [
             1,
             "#276419"
            ]
           ],
           "sequential": [
            [
             0,
             "#0d0887"
            ],
            [
             0.1111111111111111,
             "#46039f"
            ],
            [
             0.2222222222222222,
             "#7201a8"
            ],
            [
             0.3333333333333333,
             "#9c179e"
            ],
            [
             0.4444444444444444,
             "#bd3786"
            ],
            [
             0.5555555555555556,
             "#d8576b"
            ],
            [
             0.6666666666666666,
             "#ed7953"
            ],
            [
             0.7777777777777778,
             "#fb9f3a"
            ],
            [
             0.8888888888888888,
             "#fdca26"
            ],
            [
             1,
             "#f0f921"
            ]
           ],
           "sequentialminus": [
            [
             0,
             "#0d0887"
            ],
            [
             0.1111111111111111,
             "#46039f"
            ],
            [
             0.2222222222222222,
             "#7201a8"
            ],
            [
             0.3333333333333333,
             "#9c179e"
            ],
            [
             0.4444444444444444,
             "#bd3786"
            ],
            [
             0.5555555555555556,
             "#d8576b"
            ],
            [
             0.6666666666666666,
             "#ed7953"
            ],
            [
             0.7777777777777778,
             "#fb9f3a"
            ],
            [
             0.8888888888888888,
             "#fdca26"
            ],
            [
             1,
             "#f0f921"
            ]
           ]
          },
          "colorway": [
           "#636efa",
           "#EF553B",
           "#00cc96",
           "#ab63fa",
           "#FFA15A",
           "#19d3f3",
           "#FF6692",
           "#B6E880",
           "#FF97FF",
           "#FECB52"
          ],
          "font": {
           "color": "#2a3f5f"
          },
          "geo": {
           "bgcolor": "white",
           "lakecolor": "white",
           "landcolor": "#E5ECF6",
           "showlakes": true,
           "showland": true,
           "subunitcolor": "white"
          },
          "hoverlabel": {
           "align": "left"
          },
          "hovermode": "closest",
          "mapbox": {
           "style": "light"
          },
          "paper_bgcolor": "white",
          "plot_bgcolor": "#E5ECF6",
          "polar": {
           "angularaxis": {
            "gridcolor": "white",
            "linecolor": "white",
            "ticks": ""
           },
           "bgcolor": "#E5ECF6",
           "radialaxis": {
            "gridcolor": "white",
            "linecolor": "white",
            "ticks": ""
           }
          },
          "scene": {
           "xaxis": {
            "backgroundcolor": "#E5ECF6",
            "gridcolor": "white",
            "gridwidth": 2,
            "linecolor": "white",
            "showbackground": true,
            "ticks": "",
            "zerolinecolor": "white"
           },
           "yaxis": {
            "backgroundcolor": "#E5ECF6",
            "gridcolor": "white",
            "gridwidth": 2,
            "linecolor": "white",
            "showbackground": true,
            "ticks": "",
            "zerolinecolor": "white"
           },
           "zaxis": {
            "backgroundcolor": "#E5ECF6",
            "gridcolor": "white",
            "gridwidth": 2,
            "linecolor": "white",
            "showbackground": true,
            "ticks": "",
            "zerolinecolor": "white"
           }
          },
          "shapedefaults": {
           "line": {
            "color": "#2a3f5f"
           }
          },
          "ternary": {
           "aaxis": {
            "gridcolor": "white",
            "linecolor": "white",
            "ticks": ""
           },
           "baxis": {
            "gridcolor": "white",
            "linecolor": "white",
            "ticks": ""
           },
           "bgcolor": "#E5ECF6",
           "caxis": {
            "gridcolor": "white",
            "linecolor": "white",
            "ticks": ""
           }
          },
          "title": {
           "x": 0.05
          },
          "xaxis": {
           "automargin": true,
           "gridcolor": "white",
           "linecolor": "white",
           "ticks": "",
           "title": {
            "standoff": 15
           },
           "zerolinecolor": "white",
           "zerolinewidth": 2
          },
          "yaxis": {
           "automargin": true,
           "gridcolor": "white",
           "linecolor": "white",
           "ticks": "",
           "title": {
            "standoff": 15
           },
           "zerolinecolor": "white",
           "zerolinewidth": 2
          }
         }
        },
        "title": {
         "text": "Воронка событий 2",
         "x": 0.5
        },
        "yaxis": {
         "title": {
          "text": "Этапы"
         }
        }
       }
      }
     },
     "metadata": {},
     "output_type": "display_data"
    }
   ],
   "source": [
    "funnel(mob, 2, 'advert_open', 'photos_show', 'contacts_show')"
   ]
  },
  {
   "cell_type": "markdown",
   "metadata": {},
   "source": [
    "[Воронка 2.](https://chart-studio.plotly.com/~PSImera/8/#/) С карточки объявления на фотографии переходят лишь 10% пользователей, но зато из них 50% смотрят контакты, то есть люди смотрящие фотографии, чаще других, смотрят и контакты. возможно стоит более активно вовлекать людей в просмотр фотографий, а тех кто даёт объявления, стимулировать выкладывать хорошие фото"
   ]
  },
  {
   "cell_type": "code",
   "execution_count": 33,
   "metadata": {},
   "outputs": [
    {
     "data": {
      "application/vnd.plotly.v1+json": {
       "config": {
        "plotlyServerURL": "https://plotly.com"
       },
       "data": [
        {
         "marker": {
          "color": [
           "teal",
           "orange",
           "blue",
           "green",
           "silver"
          ]
         },
         "opacity": 0.65,
         "textinfo": "value+percent initial+percent previous",
         "type": "funnel",
         "x": [
          1095,
          339
         ],
         "y": [
          "photos_show",
          "contacts_show"
         ]
        }
       ],
       "layout": {
        "template": {
         "data": {
          "bar": [
           {
            "error_x": {
             "color": "#2a3f5f"
            },
            "error_y": {
             "color": "#2a3f5f"
            },
            "marker": {
             "line": {
              "color": "#E5ECF6",
              "width": 0.5
             },
             "pattern": {
              "fillmode": "overlay",
              "size": 10,
              "solidity": 0.2
             }
            },
            "type": "bar"
           }
          ],
          "barpolar": [
           {
            "marker": {
             "line": {
              "color": "#E5ECF6",
              "width": 0.5
             },
             "pattern": {
              "fillmode": "overlay",
              "size": 10,
              "solidity": 0.2
             }
            },
            "type": "barpolar"
           }
          ],
          "carpet": [
           {
            "aaxis": {
             "endlinecolor": "#2a3f5f",
             "gridcolor": "white",
             "linecolor": "white",
             "minorgridcolor": "white",
             "startlinecolor": "#2a3f5f"
            },
            "baxis": {
             "endlinecolor": "#2a3f5f",
             "gridcolor": "white",
             "linecolor": "white",
             "minorgridcolor": "white",
             "startlinecolor": "#2a3f5f"
            },
            "type": "carpet"
           }
          ],
          "choropleth": [
           {
            "colorbar": {
             "outlinewidth": 0,
             "ticks": ""
            },
            "type": "choropleth"
           }
          ],
          "contour": [
           {
            "colorbar": {
             "outlinewidth": 0,
             "ticks": ""
            },
            "colorscale": [
             [
              0,
              "#0d0887"
             ],
             [
              0.1111111111111111,
              "#46039f"
             ],
             [
              0.2222222222222222,
              "#7201a8"
             ],
             [
              0.3333333333333333,
              "#9c179e"
             ],
             [
              0.4444444444444444,
              "#bd3786"
             ],
             [
              0.5555555555555556,
              "#d8576b"
             ],
             [
              0.6666666666666666,
              "#ed7953"
             ],
             [
              0.7777777777777778,
              "#fb9f3a"
             ],
             [
              0.8888888888888888,
              "#fdca26"
             ],
             [
              1,
              "#f0f921"
             ]
            ],
            "type": "contour"
           }
          ],
          "contourcarpet": [
           {
            "colorbar": {
             "outlinewidth": 0,
             "ticks": ""
            },
            "type": "contourcarpet"
           }
          ],
          "heatmap": [
           {
            "colorbar": {
             "outlinewidth": 0,
             "ticks": ""
            },
            "colorscale": [
             [
              0,
              "#0d0887"
             ],
             [
              0.1111111111111111,
              "#46039f"
             ],
             [
              0.2222222222222222,
              "#7201a8"
             ],
             [
              0.3333333333333333,
              "#9c179e"
             ],
             [
              0.4444444444444444,
              "#bd3786"
             ],
             [
              0.5555555555555556,
              "#d8576b"
             ],
             [
              0.6666666666666666,
              "#ed7953"
             ],
             [
              0.7777777777777778,
              "#fb9f3a"
             ],
             [
              0.8888888888888888,
              "#fdca26"
             ],
             [
              1,
              "#f0f921"
             ]
            ],
            "type": "heatmap"
           }
          ],
          "heatmapgl": [
           {
            "colorbar": {
             "outlinewidth": 0,
             "ticks": ""
            },
            "colorscale": [
             [
              0,
              "#0d0887"
             ],
             [
              0.1111111111111111,
              "#46039f"
             ],
             [
              0.2222222222222222,
              "#7201a8"
             ],
             [
              0.3333333333333333,
              "#9c179e"
             ],
             [
              0.4444444444444444,
              "#bd3786"
             ],
             [
              0.5555555555555556,
              "#d8576b"
             ],
             [
              0.6666666666666666,
              "#ed7953"
             ],
             [
              0.7777777777777778,
              "#fb9f3a"
             ],
             [
              0.8888888888888888,
              "#fdca26"
             ],
             [
              1,
              "#f0f921"
             ]
            ],
            "type": "heatmapgl"
           }
          ],
          "histogram": [
           {
            "marker": {
             "pattern": {
              "fillmode": "overlay",
              "size": 10,
              "solidity": 0.2
             }
            },
            "type": "histogram"
           }
          ],
          "histogram2d": [
           {
            "colorbar": {
             "outlinewidth": 0,
             "ticks": ""
            },
            "colorscale": [
             [
              0,
              "#0d0887"
             ],
             [
              0.1111111111111111,
              "#46039f"
             ],
             [
              0.2222222222222222,
              "#7201a8"
             ],
             [
              0.3333333333333333,
              "#9c179e"
             ],
             [
              0.4444444444444444,
              "#bd3786"
             ],
             [
              0.5555555555555556,
              "#d8576b"
             ],
             [
              0.6666666666666666,
              "#ed7953"
             ],
             [
              0.7777777777777778,
              "#fb9f3a"
             ],
             [
              0.8888888888888888,
              "#fdca26"
             ],
             [
              1,
              "#f0f921"
             ]
            ],
            "type": "histogram2d"
           }
          ],
          "histogram2dcontour": [
           {
            "colorbar": {
             "outlinewidth": 0,
             "ticks": ""
            },
            "colorscale": [
             [
              0,
              "#0d0887"
             ],
             [
              0.1111111111111111,
              "#46039f"
             ],
             [
              0.2222222222222222,
              "#7201a8"
             ],
             [
              0.3333333333333333,
              "#9c179e"
             ],
             [
              0.4444444444444444,
              "#bd3786"
             ],
             [
              0.5555555555555556,
              "#d8576b"
             ],
             [
              0.6666666666666666,
              "#ed7953"
             ],
             [
              0.7777777777777778,
              "#fb9f3a"
             ],
             [
              0.8888888888888888,
              "#fdca26"
             ],
             [
              1,
              "#f0f921"
             ]
            ],
            "type": "histogram2dcontour"
           }
          ],
          "mesh3d": [
           {
            "colorbar": {
             "outlinewidth": 0,
             "ticks": ""
            },
            "type": "mesh3d"
           }
          ],
          "parcoords": [
           {
            "line": {
             "colorbar": {
              "outlinewidth": 0,
              "ticks": ""
             }
            },
            "type": "parcoords"
           }
          ],
          "pie": [
           {
            "automargin": true,
            "type": "pie"
           }
          ],
          "scatter": [
           {
            "fillpattern": {
             "fillmode": "overlay",
             "size": 10,
             "solidity": 0.2
            },
            "type": "scatter"
           }
          ],
          "scatter3d": [
           {
            "line": {
             "colorbar": {
              "outlinewidth": 0,
              "ticks": ""
             }
            },
            "marker": {
             "colorbar": {
              "outlinewidth": 0,
              "ticks": ""
             }
            },
            "type": "scatter3d"
           }
          ],
          "scattercarpet": [
           {
            "marker": {
             "colorbar": {
              "outlinewidth": 0,
              "ticks": ""
             }
            },
            "type": "scattercarpet"
           }
          ],
          "scattergeo": [
           {
            "marker": {
             "colorbar": {
              "outlinewidth": 0,
              "ticks": ""
             }
            },
            "type": "scattergeo"
           }
          ],
          "scattergl": [
           {
            "marker": {
             "colorbar": {
              "outlinewidth": 0,
              "ticks": ""
             }
            },
            "type": "scattergl"
           }
          ],
          "scattermapbox": [
           {
            "marker": {
             "colorbar": {
              "outlinewidth": 0,
              "ticks": ""
             }
            },
            "type": "scattermapbox"
           }
          ],
          "scatterpolar": [
           {
            "marker": {
             "colorbar": {
              "outlinewidth": 0,
              "ticks": ""
             }
            },
            "type": "scatterpolar"
           }
          ],
          "scatterpolargl": [
           {
            "marker": {
             "colorbar": {
              "outlinewidth": 0,
              "ticks": ""
             }
            },
            "type": "scatterpolargl"
           }
          ],
          "scatterternary": [
           {
            "marker": {
             "colorbar": {
              "outlinewidth": 0,
              "ticks": ""
             }
            },
            "type": "scatterternary"
           }
          ],
          "surface": [
           {
            "colorbar": {
             "outlinewidth": 0,
             "ticks": ""
            },
            "colorscale": [
             [
              0,
              "#0d0887"
             ],
             [
              0.1111111111111111,
              "#46039f"
             ],
             [
              0.2222222222222222,
              "#7201a8"
             ],
             [
              0.3333333333333333,
              "#9c179e"
             ],
             [
              0.4444444444444444,
              "#bd3786"
             ],
             [
              0.5555555555555556,
              "#d8576b"
             ],
             [
              0.6666666666666666,
              "#ed7953"
             ],
             [
              0.7777777777777778,
              "#fb9f3a"
             ],
             [
              0.8888888888888888,
              "#fdca26"
             ],
             [
              1,
              "#f0f921"
             ]
            ],
            "type": "surface"
           }
          ],
          "table": [
           {
            "cells": {
             "fill": {
              "color": "#EBF0F8"
             },
             "line": {
              "color": "white"
             }
            },
            "header": {
             "fill": {
              "color": "#C8D4E3"
             },
             "line": {
              "color": "white"
             }
            },
            "type": "table"
           }
          ]
         },
         "layout": {
          "annotationdefaults": {
           "arrowcolor": "#2a3f5f",
           "arrowhead": 0,
           "arrowwidth": 1
          },
          "autotypenumbers": "strict",
          "coloraxis": {
           "colorbar": {
            "outlinewidth": 0,
            "ticks": ""
           }
          },
          "colorscale": {
           "diverging": [
            [
             0,
             "#8e0152"
            ],
            [
             0.1,
             "#c51b7d"
            ],
            [
             0.2,
             "#de77ae"
            ],
            [
             0.3,
             "#f1b6da"
            ],
            [
             0.4,
             "#fde0ef"
            ],
            [
             0.5,
             "#f7f7f7"
            ],
            [
             0.6,
             "#e6f5d0"
            ],
            [
             0.7,
             "#b8e186"
            ],
            [
             0.8,
             "#7fbc41"
            ],
            [
             0.9,
             "#4d9221"
            ],
            [
             1,
             "#276419"
            ]
           ],
           "sequential": [
            [
             0,
             "#0d0887"
            ],
            [
             0.1111111111111111,
             "#46039f"
            ],
            [
             0.2222222222222222,
             "#7201a8"
            ],
            [
             0.3333333333333333,
             "#9c179e"
            ],
            [
             0.4444444444444444,
             "#bd3786"
            ],
            [
             0.5555555555555556,
             "#d8576b"
            ],
            [
             0.6666666666666666,
             "#ed7953"
            ],
            [
             0.7777777777777778,
             "#fb9f3a"
            ],
            [
             0.8888888888888888,
             "#fdca26"
            ],
            [
             1,
             "#f0f921"
            ]
           ],
           "sequentialminus": [
            [
             0,
             "#0d0887"
            ],
            [
             0.1111111111111111,
             "#46039f"
            ],
            [
             0.2222222222222222,
             "#7201a8"
            ],
            [
             0.3333333333333333,
             "#9c179e"
            ],
            [
             0.4444444444444444,
             "#bd3786"
            ],
            [
             0.5555555555555556,
             "#d8576b"
            ],
            [
             0.6666666666666666,
             "#ed7953"
            ],
            [
             0.7777777777777778,
             "#fb9f3a"
            ],
            [
             0.8888888888888888,
             "#fdca26"
            ],
            [
             1,
             "#f0f921"
            ]
           ]
          },
          "colorway": [
           "#636efa",
           "#EF553B",
           "#00cc96",
           "#ab63fa",
           "#FFA15A",
           "#19d3f3",
           "#FF6692",
           "#B6E880",
           "#FF97FF",
           "#FECB52"
          ],
          "font": {
           "color": "#2a3f5f"
          },
          "geo": {
           "bgcolor": "white",
           "lakecolor": "white",
           "landcolor": "#E5ECF6",
           "showlakes": true,
           "showland": true,
           "subunitcolor": "white"
          },
          "hoverlabel": {
           "align": "left"
          },
          "hovermode": "closest",
          "mapbox": {
           "style": "light"
          },
          "paper_bgcolor": "white",
          "plot_bgcolor": "#E5ECF6",
          "polar": {
           "angularaxis": {
            "gridcolor": "white",
            "linecolor": "white",
            "ticks": ""
           },
           "bgcolor": "#E5ECF6",
           "radialaxis": {
            "gridcolor": "white",
            "linecolor": "white",
            "ticks": ""
           }
          },
          "scene": {
           "xaxis": {
            "backgroundcolor": "#E5ECF6",
            "gridcolor": "white",
            "gridwidth": 2,
            "linecolor": "white",
            "showbackground": true,
            "ticks": "",
            "zerolinecolor": "white"
           },
           "yaxis": {
            "backgroundcolor": "#E5ECF6",
            "gridcolor": "white",
            "gridwidth": 2,
            "linecolor": "white",
            "showbackground": true,
            "ticks": "",
            "zerolinecolor": "white"
           },
           "zaxis": {
            "backgroundcolor": "#E5ECF6",
            "gridcolor": "white",
            "gridwidth": 2,
            "linecolor": "white",
            "showbackground": true,
            "ticks": "",
            "zerolinecolor": "white"
           }
          },
          "shapedefaults": {
           "line": {
            "color": "#2a3f5f"
           }
          },
          "ternary": {
           "aaxis": {
            "gridcolor": "white",
            "linecolor": "white",
            "ticks": ""
           },
           "baxis": {
            "gridcolor": "white",
            "linecolor": "white",
            "ticks": ""
           },
           "bgcolor": "#E5ECF6",
           "caxis": {
            "gridcolor": "white",
            "linecolor": "white",
            "ticks": ""
           }
          },
          "title": {
           "x": 0.05
          },
          "xaxis": {
           "automargin": true,
           "gridcolor": "white",
           "linecolor": "white",
           "ticks": "",
           "title": {
            "standoff": 15
           },
           "zerolinecolor": "white",
           "zerolinewidth": 2
          },
          "yaxis": {
           "automargin": true,
           "gridcolor": "white",
           "linecolor": "white",
           "ticks": "",
           "title": {
            "standoff": 15
           },
           "zerolinecolor": "white",
           "zerolinewidth": 2
          }
         }
        },
        "title": {
         "text": "Воронка событий 3",
         "x": 0.5
        },
        "yaxis": {
         "title": {
          "text": "Этапы"
         }
        }
       }
      }
     },
     "metadata": {},
     "output_type": "display_data"
    }
   ],
   "source": [
    "funnel(mob, 3, 'photos_show', 'contacts_show')"
   ]
  },
  {
   "cell_type": "markdown",
   "metadata": {},
   "source": [
    "[Воронка 3.](https://chart-studio.plotly.com/~PSImera/5/#/) Если исключить поиск и с просмотра фото сразу на контакты, примерно такой же процент, около трети"
   ]
  },
  {
   "cell_type": "code",
   "execution_count": 34,
   "metadata": {},
   "outputs": [
    {
     "data": {
      "application/vnd.plotly.v1+json": {
       "config": {
        "plotlyServerURL": "https://plotly.com"
       },
       "data": [
        {
         "marker": {
          "color": [
           "teal",
           "orange",
           "blue",
           "green",
           "silver"
          ]
         },
         "opacity": 0.65,
         "textinfo": "value+percent initial+percent previous",
         "type": "funnel",
         "x": [
          787,
          237
         ],
         "y": [
          "search_simple",
          "contacts_show"
         ]
        }
       ],
       "layout": {
        "template": {
         "data": {
          "bar": [
           {
            "error_x": {
             "color": "#2a3f5f"
            },
            "error_y": {
             "color": "#2a3f5f"
            },
            "marker": {
             "line": {
              "color": "#E5ECF6",
              "width": 0.5
             },
             "pattern": {
              "fillmode": "overlay",
              "size": 10,
              "solidity": 0.2
             }
            },
            "type": "bar"
           }
          ],
          "barpolar": [
           {
            "marker": {
             "line": {
              "color": "#E5ECF6",
              "width": 0.5
             },
             "pattern": {
              "fillmode": "overlay",
              "size": 10,
              "solidity": 0.2
             }
            },
            "type": "barpolar"
           }
          ],
          "carpet": [
           {
            "aaxis": {
             "endlinecolor": "#2a3f5f",
             "gridcolor": "white",
             "linecolor": "white",
             "minorgridcolor": "white",
             "startlinecolor": "#2a3f5f"
            },
            "baxis": {
             "endlinecolor": "#2a3f5f",
             "gridcolor": "white",
             "linecolor": "white",
             "minorgridcolor": "white",
             "startlinecolor": "#2a3f5f"
            },
            "type": "carpet"
           }
          ],
          "choropleth": [
           {
            "colorbar": {
             "outlinewidth": 0,
             "ticks": ""
            },
            "type": "choropleth"
           }
          ],
          "contour": [
           {
            "colorbar": {
             "outlinewidth": 0,
             "ticks": ""
            },
            "colorscale": [
             [
              0,
              "#0d0887"
             ],
             [
              0.1111111111111111,
              "#46039f"
             ],
             [
              0.2222222222222222,
              "#7201a8"
             ],
             [
              0.3333333333333333,
              "#9c179e"
             ],
             [
              0.4444444444444444,
              "#bd3786"
             ],
             [
              0.5555555555555556,
              "#d8576b"
             ],
             [
              0.6666666666666666,
              "#ed7953"
             ],
             [
              0.7777777777777778,
              "#fb9f3a"
             ],
             [
              0.8888888888888888,
              "#fdca26"
             ],
             [
              1,
              "#f0f921"
             ]
            ],
            "type": "contour"
           }
          ],
          "contourcarpet": [
           {
            "colorbar": {
             "outlinewidth": 0,
             "ticks": ""
            },
            "type": "contourcarpet"
           }
          ],
          "heatmap": [
           {
            "colorbar": {
             "outlinewidth": 0,
             "ticks": ""
            },
            "colorscale": [
             [
              0,
              "#0d0887"
             ],
             [
              0.1111111111111111,
              "#46039f"
             ],
             [
              0.2222222222222222,
              "#7201a8"
             ],
             [
              0.3333333333333333,
              "#9c179e"
             ],
             [
              0.4444444444444444,
              "#bd3786"
             ],
             [
              0.5555555555555556,
              "#d8576b"
             ],
             [
              0.6666666666666666,
              "#ed7953"
             ],
             [
              0.7777777777777778,
              "#fb9f3a"
             ],
             [
              0.8888888888888888,
              "#fdca26"
             ],
             [
              1,
              "#f0f921"
             ]
            ],
            "type": "heatmap"
           }
          ],
          "heatmapgl": [
           {
            "colorbar": {
             "outlinewidth": 0,
             "ticks": ""
            },
            "colorscale": [
             [
              0,
              "#0d0887"
             ],
             [
              0.1111111111111111,
              "#46039f"
             ],
             [
              0.2222222222222222,
              "#7201a8"
             ],
             [
              0.3333333333333333,
              "#9c179e"
             ],
             [
              0.4444444444444444,
              "#bd3786"
             ],
             [
              0.5555555555555556,
              "#d8576b"
             ],
             [
              0.6666666666666666,
              "#ed7953"
             ],
             [
              0.7777777777777778,
              "#fb9f3a"
             ],
             [
              0.8888888888888888,
              "#fdca26"
             ],
             [
              1,
              "#f0f921"
             ]
            ],
            "type": "heatmapgl"
           }
          ],
          "histogram": [
           {
            "marker": {
             "pattern": {
              "fillmode": "overlay",
              "size": 10,
              "solidity": 0.2
             }
            },
            "type": "histogram"
           }
          ],
          "histogram2d": [
           {
            "colorbar": {
             "outlinewidth": 0,
             "ticks": ""
            },
            "colorscale": [
             [
              0,
              "#0d0887"
             ],
             [
              0.1111111111111111,
              "#46039f"
             ],
             [
              0.2222222222222222,
              "#7201a8"
             ],
             [
              0.3333333333333333,
              "#9c179e"
             ],
             [
              0.4444444444444444,
              "#bd3786"
             ],
             [
              0.5555555555555556,
              "#d8576b"
             ],
             [
              0.6666666666666666,
              "#ed7953"
             ],
             [
              0.7777777777777778,
              "#fb9f3a"
             ],
             [
              0.8888888888888888,
              "#fdca26"
             ],
             [
              1,
              "#f0f921"
             ]
            ],
            "type": "histogram2d"
           }
          ],
          "histogram2dcontour": [
           {
            "colorbar": {
             "outlinewidth": 0,
             "ticks": ""
            },
            "colorscale": [
             [
              0,
              "#0d0887"
             ],
             [
              0.1111111111111111,
              "#46039f"
             ],
             [
              0.2222222222222222,
              "#7201a8"
             ],
             [
              0.3333333333333333,
              "#9c179e"
             ],
             [
              0.4444444444444444,
              "#bd3786"
             ],
             [
              0.5555555555555556,
              "#d8576b"
             ],
             [
              0.6666666666666666,
              "#ed7953"
             ],
             [
              0.7777777777777778,
              "#fb9f3a"
             ],
             [
              0.8888888888888888,
              "#fdca26"
             ],
             [
              1,
              "#f0f921"
             ]
            ],
            "type": "histogram2dcontour"
           }
          ],
          "mesh3d": [
           {
            "colorbar": {
             "outlinewidth": 0,
             "ticks": ""
            },
            "type": "mesh3d"
           }
          ],
          "parcoords": [
           {
            "line": {
             "colorbar": {
              "outlinewidth": 0,
              "ticks": ""
             }
            },
            "type": "parcoords"
           }
          ],
          "pie": [
           {
            "automargin": true,
            "type": "pie"
           }
          ],
          "scatter": [
           {
            "fillpattern": {
             "fillmode": "overlay",
             "size": 10,
             "solidity": 0.2
            },
            "type": "scatter"
           }
          ],
          "scatter3d": [
           {
            "line": {
             "colorbar": {
              "outlinewidth": 0,
              "ticks": ""
             }
            },
            "marker": {
             "colorbar": {
              "outlinewidth": 0,
              "ticks": ""
             }
            },
            "type": "scatter3d"
           }
          ],
          "scattercarpet": [
           {
            "marker": {
             "colorbar": {
              "outlinewidth": 0,
              "ticks": ""
             }
            },
            "type": "scattercarpet"
           }
          ],
          "scattergeo": [
           {
            "marker": {
             "colorbar": {
              "outlinewidth": 0,
              "ticks": ""
             }
            },
            "type": "scattergeo"
           }
          ],
          "scattergl": [
           {
            "marker": {
             "colorbar": {
              "outlinewidth": 0,
              "ticks": ""
             }
            },
            "type": "scattergl"
           }
          ],
          "scattermapbox": [
           {
            "marker": {
             "colorbar": {
              "outlinewidth": 0,
              "ticks": ""
             }
            },
            "type": "scattermapbox"
           }
          ],
          "scatterpolar": [
           {
            "marker": {
             "colorbar": {
              "outlinewidth": 0,
              "ticks": ""
             }
            },
            "type": "scatterpolar"
           }
          ],
          "scatterpolargl": [
           {
            "marker": {
             "colorbar": {
              "outlinewidth": 0,
              "ticks": ""
             }
            },
            "type": "scatterpolargl"
           }
          ],
          "scatterternary": [
           {
            "marker": {
             "colorbar": {
              "outlinewidth": 0,
              "ticks": ""
             }
            },
            "type": "scatterternary"
           }
          ],
          "surface": [
           {
            "colorbar": {
             "outlinewidth": 0,
             "ticks": ""
            },
            "colorscale": [
             [
              0,
              "#0d0887"
             ],
             [
              0.1111111111111111,
              "#46039f"
             ],
             [
              0.2222222222222222,
              "#7201a8"
             ],
             [
              0.3333333333333333,
              "#9c179e"
             ],
             [
              0.4444444444444444,
              "#bd3786"
             ],
             [
              0.5555555555555556,
              "#d8576b"
             ],
             [
              0.6666666666666666,
              "#ed7953"
             ],
             [
              0.7777777777777778,
              "#fb9f3a"
             ],
             [
              0.8888888888888888,
              "#fdca26"
             ],
             [
              1,
              "#f0f921"
             ]
            ],
            "type": "surface"
           }
          ],
          "table": [
           {
            "cells": {
             "fill": {
              "color": "#EBF0F8"
             },
             "line": {
              "color": "white"
             }
            },
            "header": {
             "fill": {
              "color": "#C8D4E3"
             },
             "line": {
              "color": "white"
             }
            },
            "type": "table"
           }
          ]
         },
         "layout": {
          "annotationdefaults": {
           "arrowcolor": "#2a3f5f",
           "arrowhead": 0,
           "arrowwidth": 1
          },
          "autotypenumbers": "strict",
          "coloraxis": {
           "colorbar": {
            "outlinewidth": 0,
            "ticks": ""
           }
          },
          "colorscale": {
           "diverging": [
            [
             0,
             "#8e0152"
            ],
            [
             0.1,
             "#c51b7d"
            ],
            [
             0.2,
             "#de77ae"
            ],
            [
             0.3,
             "#f1b6da"
            ],
            [
             0.4,
             "#fde0ef"
            ],
            [
             0.5,
             "#f7f7f7"
            ],
            [
             0.6,
             "#e6f5d0"
            ],
            [
             0.7,
             "#b8e186"
            ],
            [
             0.8,
             "#7fbc41"
            ],
            [
             0.9,
             "#4d9221"
            ],
            [
             1,
             "#276419"
            ]
           ],
           "sequential": [
            [
             0,
             "#0d0887"
            ],
            [
             0.1111111111111111,
             "#46039f"
            ],
            [
             0.2222222222222222,
             "#7201a8"
            ],
            [
             0.3333333333333333,
             "#9c179e"
            ],
            [
             0.4444444444444444,
             "#bd3786"
            ],
            [
             0.5555555555555556,
             "#d8576b"
            ],
            [
             0.6666666666666666,
             "#ed7953"
            ],
            [
             0.7777777777777778,
             "#fb9f3a"
            ],
            [
             0.8888888888888888,
             "#fdca26"
            ],
            [
             1,
             "#f0f921"
            ]
           ],
           "sequentialminus": [
            [
             0,
             "#0d0887"
            ],
            [
             0.1111111111111111,
             "#46039f"
            ],
            [
             0.2222222222222222,
             "#7201a8"
            ],
            [
             0.3333333333333333,
             "#9c179e"
            ],
            [
             0.4444444444444444,
             "#bd3786"
            ],
            [
             0.5555555555555556,
             "#d8576b"
            ],
            [
             0.6666666666666666,
             "#ed7953"
            ],
            [
             0.7777777777777778,
             "#fb9f3a"
            ],
            [
             0.8888888888888888,
             "#fdca26"
            ],
            [
             1,
             "#f0f921"
            ]
           ]
          },
          "colorway": [
           "#636efa",
           "#EF553B",
           "#00cc96",
           "#ab63fa",
           "#FFA15A",
           "#19d3f3",
           "#FF6692",
           "#B6E880",
           "#FF97FF",
           "#FECB52"
          ],
          "font": {
           "color": "#2a3f5f"
          },
          "geo": {
           "bgcolor": "white",
           "lakecolor": "white",
           "landcolor": "#E5ECF6",
           "showlakes": true,
           "showland": true,
           "subunitcolor": "white"
          },
          "hoverlabel": {
           "align": "left"
          },
          "hovermode": "closest",
          "mapbox": {
           "style": "light"
          },
          "paper_bgcolor": "white",
          "plot_bgcolor": "#E5ECF6",
          "polar": {
           "angularaxis": {
            "gridcolor": "white",
            "linecolor": "white",
            "ticks": ""
           },
           "bgcolor": "#E5ECF6",
           "radialaxis": {
            "gridcolor": "white",
            "linecolor": "white",
            "ticks": ""
           }
          },
          "scene": {
           "xaxis": {
            "backgroundcolor": "#E5ECF6",
            "gridcolor": "white",
            "gridwidth": 2,
            "linecolor": "white",
            "showbackground": true,
            "ticks": "",
            "zerolinecolor": "white"
           },
           "yaxis": {
            "backgroundcolor": "#E5ECF6",
            "gridcolor": "white",
            "gridwidth": 2,
            "linecolor": "white",
            "showbackground": true,
            "ticks": "",
            "zerolinecolor": "white"
           },
           "zaxis": {
            "backgroundcolor": "#E5ECF6",
            "gridcolor": "white",
            "gridwidth": 2,
            "linecolor": "white",
            "showbackground": true,
            "ticks": "",
            "zerolinecolor": "white"
           }
          },
          "shapedefaults": {
           "line": {
            "color": "#2a3f5f"
           }
          },
          "ternary": {
           "aaxis": {
            "gridcolor": "white",
            "linecolor": "white",
            "ticks": ""
           },
           "baxis": {
            "gridcolor": "white",
            "linecolor": "white",
            "ticks": ""
           },
           "bgcolor": "#E5ECF6",
           "caxis": {
            "gridcolor": "white",
            "linecolor": "white",
            "ticks": ""
           }
          },
          "title": {
           "x": 0.05
          },
          "xaxis": {
           "automargin": true,
           "gridcolor": "white",
           "linecolor": "white",
           "ticks": "",
           "title": {
            "standoff": 15
           },
           "zerolinecolor": "white",
           "zerolinewidth": 2
          },
          "yaxis": {
           "automargin": true,
           "gridcolor": "white",
           "linecolor": "white",
           "ticks": "",
           "title": {
            "standoff": 15
           },
           "zerolinecolor": "white",
           "zerolinewidth": 2
          }
         }
        },
        "title": {
         "text": "Воронка событий 4",
         "x": 0.5
        },
        "yaxis": {
         "title": {
          "text": "Этапы"
         }
        }
       }
      }
     },
     "metadata": {},
     "output_type": "display_data"
    }
   ],
   "source": [
    "funnel(mob, 4, 'search_simple', 'contacts_show')"
   ]
  },
  {
   "cell_type": "markdown",
   "metadata": {},
   "source": [
    "[Воронка 4.](https://chart-studio.plotly.com/~PSImera/10/#/) Стандартный поиск даёт нам треть от пользователей, им воспользовавшихся, перешедших к контактам"
   ]
  },
  {
   "cell_type": "code",
   "execution_count": 35,
   "metadata": {},
   "outputs": [
    {
     "data": {
      "application/vnd.plotly.v1+json": {
       "config": {
        "plotlyServerURL": "https://plotly.com"
       },
       "data": [
        {
         "marker": {
          "color": [
           "teal",
           "orange",
           "blue",
           "green",
           "silver"
          ]
         },
         "opacity": 0.65,
         "textinfo": "value+percent initial+percent previous",
         "type": "funnel",
         "x": [
          887,
          289,
          54
         ],
         "y": [
          "search_special",
          "advert_open",
          "contacts_show"
         ]
        }
       ],
       "layout": {
        "template": {
         "data": {
          "bar": [
           {
            "error_x": {
             "color": "#2a3f5f"
            },
            "error_y": {
             "color": "#2a3f5f"
            },
            "marker": {
             "line": {
              "color": "#E5ECF6",
              "width": 0.5
             },
             "pattern": {
              "fillmode": "overlay",
              "size": 10,
              "solidity": 0.2
             }
            },
            "type": "bar"
           }
          ],
          "barpolar": [
           {
            "marker": {
             "line": {
              "color": "#E5ECF6",
              "width": 0.5
             },
             "pattern": {
              "fillmode": "overlay",
              "size": 10,
              "solidity": 0.2
             }
            },
            "type": "barpolar"
           }
          ],
          "carpet": [
           {
            "aaxis": {
             "endlinecolor": "#2a3f5f",
             "gridcolor": "white",
             "linecolor": "white",
             "minorgridcolor": "white",
             "startlinecolor": "#2a3f5f"
            },
            "baxis": {
             "endlinecolor": "#2a3f5f",
             "gridcolor": "white",
             "linecolor": "white",
             "minorgridcolor": "white",
             "startlinecolor": "#2a3f5f"
            },
            "type": "carpet"
           }
          ],
          "choropleth": [
           {
            "colorbar": {
             "outlinewidth": 0,
             "ticks": ""
            },
            "type": "choropleth"
           }
          ],
          "contour": [
           {
            "colorbar": {
             "outlinewidth": 0,
             "ticks": ""
            },
            "colorscale": [
             [
              0,
              "#0d0887"
             ],
             [
              0.1111111111111111,
              "#46039f"
             ],
             [
              0.2222222222222222,
              "#7201a8"
             ],
             [
              0.3333333333333333,
              "#9c179e"
             ],
             [
              0.4444444444444444,
              "#bd3786"
             ],
             [
              0.5555555555555556,
              "#d8576b"
             ],
             [
              0.6666666666666666,
              "#ed7953"
             ],
             [
              0.7777777777777778,
              "#fb9f3a"
             ],
             [
              0.8888888888888888,
              "#fdca26"
             ],
             [
              1,
              "#f0f921"
             ]
            ],
            "type": "contour"
           }
          ],
          "contourcarpet": [
           {
            "colorbar": {
             "outlinewidth": 0,
             "ticks": ""
            },
            "type": "contourcarpet"
           }
          ],
          "heatmap": [
           {
            "colorbar": {
             "outlinewidth": 0,
             "ticks": ""
            },
            "colorscale": [
             [
              0,
              "#0d0887"
             ],
             [
              0.1111111111111111,
              "#46039f"
             ],
             [
              0.2222222222222222,
              "#7201a8"
             ],
             [
              0.3333333333333333,
              "#9c179e"
             ],
             [
              0.4444444444444444,
              "#bd3786"
             ],
             [
              0.5555555555555556,
              "#d8576b"
             ],
             [
              0.6666666666666666,
              "#ed7953"
             ],
             [
              0.7777777777777778,
              "#fb9f3a"
             ],
             [
              0.8888888888888888,
              "#fdca26"
             ],
             [
              1,
              "#f0f921"
             ]
            ],
            "type": "heatmap"
           }
          ],
          "heatmapgl": [
           {
            "colorbar": {
             "outlinewidth": 0,
             "ticks": ""
            },
            "colorscale": [
             [
              0,
              "#0d0887"
             ],
             [
              0.1111111111111111,
              "#46039f"
             ],
             [
              0.2222222222222222,
              "#7201a8"
             ],
             [
              0.3333333333333333,
              "#9c179e"
             ],
             [
              0.4444444444444444,
              "#bd3786"
             ],
             [
              0.5555555555555556,
              "#d8576b"
             ],
             [
              0.6666666666666666,
              "#ed7953"
             ],
             [
              0.7777777777777778,
              "#fb9f3a"
             ],
             [
              0.8888888888888888,
              "#fdca26"
             ],
             [
              1,
              "#f0f921"
             ]
            ],
            "type": "heatmapgl"
           }
          ],
          "histogram": [
           {
            "marker": {
             "pattern": {
              "fillmode": "overlay",
              "size": 10,
              "solidity": 0.2
             }
            },
            "type": "histogram"
           }
          ],
          "histogram2d": [
           {
            "colorbar": {
             "outlinewidth": 0,
             "ticks": ""
            },
            "colorscale": [
             [
              0,
              "#0d0887"
             ],
             [
              0.1111111111111111,
              "#46039f"
             ],
             [
              0.2222222222222222,
              "#7201a8"
             ],
             [
              0.3333333333333333,
              "#9c179e"
             ],
             [
              0.4444444444444444,
              "#bd3786"
             ],
             [
              0.5555555555555556,
              "#d8576b"
             ],
             [
              0.6666666666666666,
              "#ed7953"
             ],
             [
              0.7777777777777778,
              "#fb9f3a"
             ],
             [
              0.8888888888888888,
              "#fdca26"
             ],
             [
              1,
              "#f0f921"
             ]
            ],
            "type": "histogram2d"
           }
          ],
          "histogram2dcontour": [
           {
            "colorbar": {
             "outlinewidth": 0,
             "ticks": ""
            },
            "colorscale": [
             [
              0,
              "#0d0887"
             ],
             [
              0.1111111111111111,
              "#46039f"
             ],
             [
              0.2222222222222222,
              "#7201a8"
             ],
             [
              0.3333333333333333,
              "#9c179e"
             ],
             [
              0.4444444444444444,
              "#bd3786"
             ],
             [
              0.5555555555555556,
              "#d8576b"
             ],
             [
              0.6666666666666666,
              "#ed7953"
             ],
             [
              0.7777777777777778,
              "#fb9f3a"
             ],
             [
              0.8888888888888888,
              "#fdca26"
             ],
             [
              1,
              "#f0f921"
             ]
            ],
            "type": "histogram2dcontour"
           }
          ],
          "mesh3d": [
           {
            "colorbar": {
             "outlinewidth": 0,
             "ticks": ""
            },
            "type": "mesh3d"
           }
          ],
          "parcoords": [
           {
            "line": {
             "colorbar": {
              "outlinewidth": 0,
              "ticks": ""
             }
            },
            "type": "parcoords"
           }
          ],
          "pie": [
           {
            "automargin": true,
            "type": "pie"
           }
          ],
          "scatter": [
           {
            "fillpattern": {
             "fillmode": "overlay",
             "size": 10,
             "solidity": 0.2
            },
            "type": "scatter"
           }
          ],
          "scatter3d": [
           {
            "line": {
             "colorbar": {
              "outlinewidth": 0,
              "ticks": ""
             }
            },
            "marker": {
             "colorbar": {
              "outlinewidth": 0,
              "ticks": ""
             }
            },
            "type": "scatter3d"
           }
          ],
          "scattercarpet": [
           {
            "marker": {
             "colorbar": {
              "outlinewidth": 0,
              "ticks": ""
             }
            },
            "type": "scattercarpet"
           }
          ],
          "scattergeo": [
           {
            "marker": {
             "colorbar": {
              "outlinewidth": 0,
              "ticks": ""
             }
            },
            "type": "scattergeo"
           }
          ],
          "scattergl": [
           {
            "marker": {
             "colorbar": {
              "outlinewidth": 0,
              "ticks": ""
             }
            },
            "type": "scattergl"
           }
          ],
          "scattermapbox": [
           {
            "marker": {
             "colorbar": {
              "outlinewidth": 0,
              "ticks": ""
             }
            },
            "type": "scattermapbox"
           }
          ],
          "scatterpolar": [
           {
            "marker": {
             "colorbar": {
              "outlinewidth": 0,
              "ticks": ""
             }
            },
            "type": "scatterpolar"
           }
          ],
          "scatterpolargl": [
           {
            "marker": {
             "colorbar": {
              "outlinewidth": 0,
              "ticks": ""
             }
            },
            "type": "scatterpolargl"
           }
          ],
          "scatterternary": [
           {
            "marker": {
             "colorbar": {
              "outlinewidth": 0,
              "ticks": ""
             }
            },
            "type": "scatterternary"
           }
          ],
          "surface": [
           {
            "colorbar": {
             "outlinewidth": 0,
             "ticks": ""
            },
            "colorscale": [
             [
              0,
              "#0d0887"
             ],
             [
              0.1111111111111111,
              "#46039f"
             ],
             [
              0.2222222222222222,
              "#7201a8"
             ],
             [
              0.3333333333333333,
              "#9c179e"
             ],
             [
              0.4444444444444444,
              "#bd3786"
             ],
             [
              0.5555555555555556,
              "#d8576b"
             ],
             [
              0.6666666666666666,
              "#ed7953"
             ],
             [
              0.7777777777777778,
              "#fb9f3a"
             ],
             [
              0.8888888888888888,
              "#fdca26"
             ],
             [
              1,
              "#f0f921"
             ]
            ],
            "type": "surface"
           }
          ],
          "table": [
           {
            "cells": {
             "fill": {
              "color": "#EBF0F8"
             },
             "line": {
              "color": "white"
             }
            },
            "header": {
             "fill": {
              "color": "#C8D4E3"
             },
             "line": {
              "color": "white"
             }
            },
            "type": "table"
           }
          ]
         },
         "layout": {
          "annotationdefaults": {
           "arrowcolor": "#2a3f5f",
           "arrowhead": 0,
           "arrowwidth": 1
          },
          "autotypenumbers": "strict",
          "coloraxis": {
           "colorbar": {
            "outlinewidth": 0,
            "ticks": ""
           }
          },
          "colorscale": {
           "diverging": [
            [
             0,
             "#8e0152"
            ],
            [
             0.1,
             "#c51b7d"
            ],
            [
             0.2,
             "#de77ae"
            ],
            [
             0.3,
             "#f1b6da"
            ],
            [
             0.4,
             "#fde0ef"
            ],
            [
             0.5,
             "#f7f7f7"
            ],
            [
             0.6,
             "#e6f5d0"
            ],
            [
             0.7,
             "#b8e186"
            ],
            [
             0.8,
             "#7fbc41"
            ],
            [
             0.9,
             "#4d9221"
            ],
            [
             1,
             "#276419"
            ]
           ],
           "sequential": [
            [
             0,
             "#0d0887"
            ],
            [
             0.1111111111111111,
             "#46039f"
            ],
            [
             0.2222222222222222,
             "#7201a8"
            ],
            [
             0.3333333333333333,
             "#9c179e"
            ],
            [
             0.4444444444444444,
             "#bd3786"
            ],
            [
             0.5555555555555556,
             "#d8576b"
            ],
            [
             0.6666666666666666,
             "#ed7953"
            ],
            [
             0.7777777777777778,
             "#fb9f3a"
            ],
            [
             0.8888888888888888,
             "#fdca26"
            ],
            [
             1,
             "#f0f921"
            ]
           ],
           "sequentialminus": [
            [
             0,
             "#0d0887"
            ],
            [
             0.1111111111111111,
             "#46039f"
            ],
            [
             0.2222222222222222,
             "#7201a8"
            ],
            [
             0.3333333333333333,
             "#9c179e"
            ],
            [
             0.4444444444444444,
             "#bd3786"
            ],
            [
             0.5555555555555556,
             "#d8576b"
            ],
            [
             0.6666666666666666,
             "#ed7953"
            ],
            [
             0.7777777777777778,
             "#fb9f3a"
            ],
            [
             0.8888888888888888,
             "#fdca26"
            ],
            [
             1,
             "#f0f921"
            ]
           ]
          },
          "colorway": [
           "#636efa",
           "#EF553B",
           "#00cc96",
           "#ab63fa",
           "#FFA15A",
           "#19d3f3",
           "#FF6692",
           "#B6E880",
           "#FF97FF",
           "#FECB52"
          ],
          "font": {
           "color": "#2a3f5f"
          },
          "geo": {
           "bgcolor": "white",
           "lakecolor": "white",
           "landcolor": "#E5ECF6",
           "showlakes": true,
           "showland": true,
           "subunitcolor": "white"
          },
          "hoverlabel": {
           "align": "left"
          },
          "hovermode": "closest",
          "mapbox": {
           "style": "light"
          },
          "paper_bgcolor": "white",
          "plot_bgcolor": "#E5ECF6",
          "polar": {
           "angularaxis": {
            "gridcolor": "white",
            "linecolor": "white",
            "ticks": ""
           },
           "bgcolor": "#E5ECF6",
           "radialaxis": {
            "gridcolor": "white",
            "linecolor": "white",
            "ticks": ""
           }
          },
          "scene": {
           "xaxis": {
            "backgroundcolor": "#E5ECF6",
            "gridcolor": "white",
            "gridwidth": 2,
            "linecolor": "white",
            "showbackground": true,
            "ticks": "",
            "zerolinecolor": "white"
           },
           "yaxis": {
            "backgroundcolor": "#E5ECF6",
            "gridcolor": "white",
            "gridwidth": 2,
            "linecolor": "white",
            "showbackground": true,
            "ticks": "",
            "zerolinecolor": "white"
           },
           "zaxis": {
            "backgroundcolor": "#E5ECF6",
            "gridcolor": "white",
            "gridwidth": 2,
            "linecolor": "white",
            "showbackground": true,
            "ticks": "",
            "zerolinecolor": "white"
           }
          },
          "shapedefaults": {
           "line": {
            "color": "#2a3f5f"
           }
          },
          "ternary": {
           "aaxis": {
            "gridcolor": "white",
            "linecolor": "white",
            "ticks": ""
           },
           "baxis": {
            "gridcolor": "white",
            "linecolor": "white",
            "ticks": ""
           },
           "bgcolor": "#E5ECF6",
           "caxis": {
            "gridcolor": "white",
            "linecolor": "white",
            "ticks": ""
           }
          },
          "title": {
           "x": 0.05
          },
          "xaxis": {
           "automargin": true,
           "gridcolor": "white",
           "linecolor": "white",
           "ticks": "",
           "title": {
            "standoff": 15
           },
           "zerolinecolor": "white",
           "zerolinewidth": 2
          },
          "yaxis": {
           "automargin": true,
           "gridcolor": "white",
           "linecolor": "white",
           "ticks": "",
           "title": {
            "standoff": 15
           },
           "zerolinecolor": "white",
           "zerolinewidth": 2
          }
         }
        },
        "title": {
         "text": "Воронка событий 5",
         "x": 0.5
        },
        "yaxis": {
         "title": {
          "text": "Этапы"
         }
        }
       }
      }
     },
     "metadata": {},
     "output_type": "display_data"
    }
   ],
   "source": [
    "funnel(mob, 5, 'search_special', 'advert_open', 'contacts_show')"
   ]
  },
  {
   "cell_type": "markdown",
   "metadata": {},
   "source": [
    "[Воронка 5.](https://chart-studio.plotly.com/~PSImera/12/#/) Из специфческих вариантов поиска на карточку переходит треть, но дальше на контакты переходит лишь 1/5 из них и лишь 6% от воспользовавшихся поиском"
   ]
  },
  {
   "cell_type": "markdown",
   "metadata": {},
   "source": [
    "## Проверка гипотез"
   ]
  },
  {
   "cell_type": "markdown",
   "metadata": {},
   "source": [
    "### Гипотеза 1"
   ]
  },
  {
   "cell_type": "markdown",
   "metadata": {},
   "source": [
    "Группа А: совершают действия `tips_show` и `tips_click`\n",
    "Группа B: совершают только `tips_show`\n",
    "\n",
    "Гипотеза: конверсия в просмотры контактов различается у этих двух групп.\n",
    "\n",
    "Нулевая: различий в конверсии между группами А и B нет\n",
    "\n",
    "Альтернативная: различия есть"
   ]
  },
  {
   "cell_type": "code",
   "execution_count": 36,
   "metadata": {},
   "outputs": [
    {
     "name": "stdout",
     "output_type": "stream",
     "text": [
      "Коэфициент конверсии в группе A: 0.31\n",
      "Коэфициент конверсии в группе B: 0.17\n",
      "p-value: 1e-08\n",
      "Отклонить нулевую гипотезу\n"
     ]
    }
   ],
   "source": [
    "tips_show_users = set(mob_with_tips_show[mob_with_tips_show['event_name'] == 'tips_show']['user_id'])\n",
    "tips_click_users = set(mob_with_tips_show[mob_with_tips_show['event_name'] == 'tips_click']['user_id']) \n",
    "contacts_show_users = set(mob_with_tips_show[mob_with_tips_show['event_name'] == 'contacts_show']['user_id']) \n",
    "\n",
    "contacts_show_users_count_a1 = len(tips_show_users.intersection(tips_click_users, contacts_show_users))\n",
    "users_count_a1 = len(tips_show_users.intersection(tips_click_users))\n",
    "\n",
    "a1_prop = contacts_show_users_count_a1 / users_count_a1\n",
    "print(f'Коэфициент конверсии в группе A: {round(a1_prop, 2)}')\n",
    "\n",
    "users_count_b1 = tips_show_users.difference(tips_click_users )\n",
    "contacts_show_users_count_b1= len(users_count_b1.intersection(contacts_show_users))\n",
    "users_count_b1 = len(users_count_b1)\n",
    "b1_prop = contacts_show_users_count_b1 / users_count_b1\n",
    "print(f'Коэфициент конверсии в группе B: {round(b1_prop, 2)}')\n",
    "\n",
    "p1_combined = (contacts_show_users_count_a1 + contacts_show_users_count_b1) / (users_count_a1 + users_count_b1)\n",
    "\n",
    "alpha = .05\n",
    "diff = a1_prop - b1_prop\n",
    "z_value = diff / (p1_combined * (1 - p1_combined) * (1/users_count_a1 + 1/users_count_b1)) ** 0.5\n",
    "distr = st.norm(0, 1) \n",
    "\n",
    "p_value = (1- distr.cdf(abs(z_value))) * 2\n",
    "print('p-value:', round(p_value, 8))\n",
    "if p_value < alpha:\n",
    "    print('Отклонить нулевую гипотезу')\n",
    "else:\n",
    "    print('Не получилось отклонить нулевую гипотезу')"
   ]
  },
  {
   "cell_type": "markdown",
   "metadata": {},
   "source": [
    "Расзлчия статистически значимы. Отвергаем нулевую гипотезу"
   ]
  },
  {
   "cell_type": "markdown",
   "metadata": {},
   "source": [
    "## Гипотеза 2"
   ]
  },
  {
   "cell_type": "markdown",
   "metadata": {},
   "source": [
    "Группа A: совершают действия `photos_show` и `contacts_show`\n",
    "\n",
    "Группа B: только `contacts_show`\n",
    "\n",
    "Проверим гипотезу: конверсия в просмотры контактов различается у этих двух групп\n",
    "\n",
    "Нулевая: нет различий в конверсии между группами А и B\n",
    "\n",
    "Альтернативная: различия между группами есть"
   ]
  },
  {
   "cell_type": "code",
   "execution_count": 37,
   "metadata": {},
   "outputs": [
    {
     "name": "stdout",
     "output_type": "stream",
     "text": [
      "Коэфициент конверсии в группе A: 0.31\n",
      "Коэфициент конверсии в группе B: 0.26\n",
      "p-value: 0.00133425\n",
      "Отклонить нулевую гипотезу\n"
     ]
    }
   ],
   "source": [
    "photos_show_users = set(mob[mob['event_name'] == 'photos_show']['user_id'])\n",
    "temp = mob[~mob['user_id'].isin(photos_show_users)]\n",
    "no_photos_show_users = set(temp['user_id'])\n",
    "contacts_show_users = set(mob[mob['event_name'] == 'contacts_show']['user_id'])\n",
    "\n",
    "contacts_show_users_count_a2 = len(photos_show_users.intersection(contacts_show_users))\n",
    "users_count_a2 = len(photos_show_users)\n",
    "\n",
    "a2_prop = contacts_show_users_count_a2 / users_count_a2\n",
    "print(f'Коэфициент конверсии в группе A: {round(a2_prop, 2)}')\n",
    "\n",
    "contacts_show_users_count_b2 = len(no_photos_show_users.intersection(contacts_show_users))\n",
    "users_count_b2 = len(no_photos_show_users)\n",
    "b2_prop = contacts_show_users_count_b2 / users_count_b2\n",
    "print(f'Коэфициент конверсии в группе B: {round(b2_prop, 2)}')\n",
    "\n",
    "p2_combined = (contacts_show_users_count_a2 + contacts_show_users_count_b2) / (users_count_a2 + users_count_b2)\n",
    "\n",
    "alpha = .01 \n",
    "diff = a2_prop - b2_prop\n",
    "z_value = diff / (p2_combined * (1 - p2_combined) * (1/users_count_a2 + 1/users_count_b2)) ** 0.5\n",
    "distr = st.norm(0, 1) \n",
    "\n",
    "p_value = (1- distr.cdf(abs(z_value))) * 2\n",
    "print('p-value:', round(p_value, 8))\n",
    "if p_value < alpha:\n",
    "    print('Отклонить нулевую гипотезу')\n",
    "else:\n",
    "    print('Не получилось отклонить нулевую гипотезу')"
   ]
  },
  {
   "cell_type": "markdown",
   "metadata": {},
   "source": [
    "Не смотря на то что значения в 31% и 26% кажуться близкими, тест показывает что это различие статистически значимо и пользователи, просмотревшие фотографии, чаще конверсируются в просмотр контактов"
   ]
  },
  {
   "cell_type": "markdown",
   "metadata": {},
   "source": [
    "## Вывод"
   ]
  },
  {
   "cell_type": "markdown",
   "metadata": {},
   "source": [
    "Что было сделано:\n",
    "\n",
    "Была проанализирована связь целевого события `просмотр контактов` и других действий пользователя.\n",
    "\n",
    "для этого поэтапно были осуществленны следующие действия:\n",
    "\n",
    "* Произведена предобработка данных, включающая;\n",
    "    * переименование столбцов\n",
    "    * преобразование типа данных столбца `event_time` в формат даты и время\n",
    "    * удаление неявных дубликатов в виде событий `contacts_show` и `show_contacts`\n",
    "\n",
    "* Анализ данных;\n",
    "    * В нашем распоряжении информация с `07 Oct 2019` по `03 Nov 2019`, то есть почти за месяц. Данные начинаются с понедельника.\n",
    "    * Конверсия к целевому событию составляет 22.85% от общего количества пользователей\n",
    "    * Было решено исключить событие `tips_show`, поскольку оно является автоматическим и не отражает активности пользователей. Однако, оно было использованно для проверки гипотезы, данной в ТЗ.\n",
    "    * События связанные с поиском встречаются очень редко. Единственное событие `search_1`, встречающееся достаточно часто, было объявлено как `search_simple`. Остальные было решено рассматривать как категорию `search_special`, предположительно связанных с использованием фильтров.\n",
    "    * На одного пользователя в среднем приходится 16 событий при минимуме и максимуме в 1 и 336 событий. С таким большим разбросом, полезнее будет рассматривать медиану, которая составляет 5 событий на пользователя.\n",
    "    * По распределению показателей среди источников пользователей лидирует Yandex. Больше всего пользователей и пришедшие пользователи осуществляют больше событий. Google даёт меньше уникальных пользователей чем остальные источники (не считая Yandex), но эти пользователи чуть более активны\n",
    "    * Есть явная суточная сезонность. Ночью приложением пользуются значительно реже и пик приходится на 9 вечера. Так же есть провал в 5-6 вечера\n",
    "    * Ввиду небольшого отрезка данных по времени, решено было не делать декомпозицию и не выявлять тренды\n",
    "    * Наблюдается более частое посещение приложения во вторник и воскресенье, и наименьшее в пятницу и субботу.\n",
    "    * Сессию анализировали взяв интервал бездействия в 20 минут, опираясь на стандарты [OWASP (Open Web Application Security Project)](https://cheatsheetseries.owasp.org/cheatsheets/Session_Management_Cheat_Sheet.html#:~:text=Both%20the%20idle,and%208%20hours)\n",
    "    * Основная масса людей пользуется приложением до 2 минут 1-4 раз в день.\n",
    "    * Когортный анализ показал низкий показатель удержания пользователей. Например, удержание к 7-му дню составило менее 8%, а к 14-му дню - менее 1%.\n",
    "    * Количество новых пользователей в день имеет тенденцию к снижению. при небольшом росте количества уникальных пользователей.\n",
    "    * На диаграмме Санкей рассмотрено распределение основных сценариев. Примечательно что сценарии составляют не более 4 этапов, а чаще и вовсе 2 этапа пользователю достаточно чтобы добратся до целевого - `contacts_show`.\n",
    "    * выделены следующие сценарии и проанализированны их воронки:\n",
    "        * `простой поиск -> просмотр фотографий -> посмотр контактов` - Довольно большой процент смотрит фото после поиска, но лишь около трети потом смотрит контакты\n",
    "        * `открытие объявления -> просмотр фотографий -> посмотр контактов` - С карточки объявления на фотографии переходят лишь 10% пользователей, но зато из них 50% смотрят контакты, то есть люди смотрящие фотографии, чаще других, смотрят и контакты. возможно стоит более активно вовлекать людей в просмотр фотографий, а тех кто даёт объявления, стимулировать выкладывать хорошие фото\n",
    "        * `просмотр фотографий -> посмотр контактов` - Если исключить поиск и с просмотра фото сразу на контакты, примерно такой же процент, около трети\n",
    "        * `простой поиск -> посмотр контактов` - Стандартный поиск даёт нам треть от пользователей, им воспользовавшихся, перешедших к контактам\n",
    "        * `специфический поиск -> открытие объявления -> посмотр контактов` - Из специфческих вариантов поиска на карточку переходит треть, но дальше на контакты переходит лишь 1/5 из них и лишь 6% от воспользовавшихся поиском\n",
    "\n",
    "* Проверенны гипотезы:\n",
    "    * Статистически значимые различия обнаружены в конверсии пользователей, совершающих действия `tips_show` и `tips_click` по сравнению с пользователями, совершающими только `tips_show`. Конверсия выше у первой группы\n",
    "    * Обнаружены статистически значимые различия в конверсии пользователей, просматривающих фото и не просматривающих их. Конверсия выше в первой группе (31% против 26%)\n",
    "\n",
    "\n",
    "Рекомендации:\n",
    "\n",
    "* Рекомендуется добавить логирование действия \"стартовая страница\". Это поможет улучшить точность учета пользователей и стать отправной точкой для большинства аналитических воронок. Также станет проще отслеживать частоту заходов пользователей в приложение в разное время\n",
    "* Следует уделить внимание развитию системы рекомендаций\n",
    "* Необходимо привести базу данных к общему формату, чтобы избежать дублирования событий `contacts_show` и `show_contacts`\n",
    "* Рекомендуется переименовать события от `search_1` до `search_7` в более интуитивно понятные названия или документировать их значения"
   ]
  },
  {
   "cell_type": "code",
   "execution_count": null,
   "metadata": {},
   "outputs": [],
   "source": []
  }
 ],
 "metadata": {
  "kernelspec": {
   "display_name": "Python 3",
   "language": "python",
   "name": "python3"
  },
  "language_info": {
   "codemirror_mode": {
    "name": "ipython",
    "version": 3
   },
   "file_extension": ".py",
   "mimetype": "text/x-python",
   "name": "python",
   "nbconvert_exporter": "python",
   "pygments_lexer": "ipython3",
   "version": "3.9.0"
  }
 },
 "nbformat": 4,
 "nbformat_minor": 2
}
